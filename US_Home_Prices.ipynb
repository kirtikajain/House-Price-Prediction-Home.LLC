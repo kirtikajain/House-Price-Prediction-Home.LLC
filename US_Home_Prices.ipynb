{
  "nbformat": 4,
  "nbformat_minor": 0,
  "metadata": {
    "colab": {
      "name": "US Home Prices.ipynb",
      "provenance": [],
      "collapsed_sections": [],
      "mount_file_id": "11ibV-bah2eh5oIW4vRqwXPHo6T91aAG_",
      "authorship_tag": "ABX9TyOpm5HZ4h0tOys/xTKvdQ3l",
      "include_colab_link": true
    },
    "kernelspec": {
      "name": "python3",
      "display_name": "Python 3"
    },
    "language_info": {
      "name": "python"
    }
  },
  "cells": [
    {
      "cell_type": "markdown",
      "metadata": {
        "id": "view-in-github",
        "colab_type": "text"
      },
      "source": [
        "<a href=\"https://colab.research.google.com/github/kirtikajain/House-Price-Prediction-Home.LLC/blob/main/US_Home_Prices.ipynb\" target=\"_parent\"><img src=\"https://colab.research.google.com/assets/colab-badge.svg\" alt=\"Open In Colab\"/></a>"
      ]
    },
    {
      "cell_type": "code",
      "metadata": {
        "colab": {
          "base_uri": "https://localhost:8080/"
        },
        "id": "WXpXWUkfZ9JF",
        "outputId": "974da81f-d996-4683-89d2-e3016e9784df"
      },
      "source": [
        "from google.colab import drive\n",
        "drive.mount('/content/drive')"
      ],
      "execution_count": 75,
      "outputs": [
        {
          "output_type": "stream",
          "text": [
            "Drive already mounted at /content/drive; to attempt to forcibly remount, call drive.mount(\"/content/drive\", force_remount=True).\n"
          ],
          "name": "stdout"
        }
      ]
    },
    {
      "cell_type": "code",
      "metadata": {
        "colab": {
          "base_uri": "https://localhost:8080/"
        },
        "id": "NJmOmcI1aKlk",
        "outputId": "efcb2d29-1a58-4cd3-dfbe-109a9ef9a4f7"
      },
      "source": [
        "%cd /content/drive/MyDrive/Colab Notebooks/Features_Data"
      ],
      "execution_count": 77,
      "outputs": [
        {
          "output_type": "stream",
          "text": [
            "/content/drive/MyDrive/Colab Notebooks/Features_Data\n"
          ],
          "name": "stdout"
        }
      ]
    },
    {
      "cell_type": "markdown",
      "metadata": {
        "id": "GtNNvEIKIojL"
      },
      "source": [
        "# **House Price Prediction**\n",
        "A Machine learning model using LightGBM, XGBoost, Gradient Boosting Regressor and comparing their performance on predicting HPI on real US Data Features.\n",
        "\n",
        "*The dependent variable is:*\n",
        "\n",
        "**CSUSHPISA:** S&P/Case-Shiller U.S. National Home Price Index\n",
        "\n",
        "*The independent Variables includes :*\n",
        "\n",
        "\n",
        "\n",
        "*   CPALTT01USM657N- Consumer Price Index: Total All Items for the United States\n",
        "*   UNEMPLOY-Unemployment Level\n",
        "*   PCE-Personal Consumption Expenditures, an index that measures monthly changes in the price of consumer goods and services as a means of analyzing inflation.\n",
        "*   CPIHOSSL-Consumer Price Index for All Urban Consumers: Housing in U.S. City Average\n",
        "*   H8B1001NCBCMG- Bank Credit, All Commercial Banks\n",
        "*   MSACSR-The months' supply is the ratio of houses for sale to houses sold. \n",
        "*   POPTHM-Population includes resident population plus armed forces overseas.\n",
        "*   LNU02300000- Employment-Population Ratio\n",
        "*   MORTGAGE30US- Average interest rate, calculated weekly, of fixed-rate mortgages with a 30-year repayment term.\n",
        "*   ETOTALUSQ176N-Housing Inventory Estimate: Total Housing Units in the United States\n",
        "*   GDP-Gross Domestic Product\n",
        "*   GDI-Gross Domestic Income\n",
        "*   INTDSRUSM193N- Interest Rates, Discount Rate for United States\n",
        "*   INDPRO-Industrial Production: Total Index( monthly index of real output for all facilities located in the U.S. in manufacturing, mining, and electric and gas industries.)\n",
        "*  IPG321S-Industrial Production: Manufacturing: Durable Goods: Wood Product\n",
        "*   IPG333S-Industrial Production: Manufacturing: Durable Goods: Machinery\n",
        "*   IPB54100S-Industrial Production: Construction Supplies\n",
        "*   IPB53122S-Industrial Production: Durable Goods Materials: Semiconductors, Printed Circuit Boards, and Other\n",
        "\n",
        "\n",
        "\n",
        "\n",
        "\n",
        "\n",
        "\n",
        "\n",
        "\n",
        "\n",
        "\n",
        "\n",
        "\n"
      ]
    },
    {
      "cell_type": "markdown",
      "metadata": {
        "id": "y5HM6Ql1HWAL"
      },
      "source": [
        "A) Importing all necessary modules."
      ]
    },
    {
      "cell_type": "code",
      "metadata": {
        "id": "TKjFeKaDImkR"
      },
      "source": [
        "import math\n",
        "import numpy as np\n",
        "import pandas as pd\n",
        "import matplotlib.pyplot as plt\n",
        "%matplotlib inline\n",
        "import seaborn as sns\n",
        "import lightgbm as lgb\n",
        "from sklearn.model_selection import train_test_split\n",
        "from sklearn.metrics import mean_squared_log_error\n",
        "from sklearn.model_selection import KFold, cross_val_score\n",
        "from sklearn.metrics import mean_squared_error\n",
        "import xgboost as xgb\n",
        "from sklearn.ensemble import GradientBoostingRegressor\n",
        "from sklearn import preprocessing\n",
        "from sklearn.preprocessing import StandardScaler\n",
        "from sklearn.model_selection import cross_val_score, cross_val_predict\n",
        "from datetime import datetime\n",
        "import warnings\n",
        "warnings.filterwarnings(\"ignore\")"
      ],
      "execution_count": 2,
      "outputs": []
    },
    {
      "cell_type": "markdown",
      "metadata": {
        "id": "noafv4Q9Hb7a"
      },
      "source": [
        "B) Data Cleaning\n",
        "\n",
        "\n",
        "> 1. Keeping Data from 2000-2020\n",
        "\n",
        "> 2. Converting the quarterly and daily data to monthly intervals.\n",
        "\n",
        "> 3. Joining Single features into one single dataframe.\n",
        "\n",
        "\n",
        "\n",
        "\n",
        "\n"
      ]
    },
    {
      "cell_type": "code",
      "metadata": {
        "colab": {
          "base_uri": "https://localhost:8080/"
        },
        "id": "I-zHJrPfYJlS",
        "outputId": "72fb2ee7-b1b7-403d-921e-21b0ca30273e"
      },
      "source": [
        "HPI=pd.read_csv(\"CSUSHPISA.csv\")\n",
        "HPI['DATE'] = pd.to_datetime(HPI['DATE'])\n",
        "HPI['Date'] = HPI['DATE'].dt.strftime('%m-%Y')\n",
        "HPI=HPI[(HPI[\"DATE\"]>\"12-1999\") & (HPI[\"DATE\"]<\"01-2021\")]\n",
        "HPI=HPI.drop(['DATE'], axis = 1)\n",
        "HPI=HPI.reset_index()\n",
        "HPI=HPI.drop(['index'],axis=1)\n",
        "#print(HPI.head(10))\n",
        "\n",
        "total_cpi=pd.read_csv(\"CPALTT01USM657N.csv\")\n",
        "total_cpi['DATE'] = pd.to_datetime(total_cpi['DATE'])\n",
        "total_cpi['Date'] = total_cpi['DATE'].dt.strftime('%m-%Y')\n",
        "total_cpi=total_cpi[(total_cpi[\"DATE\"]>\"12-1999\") & (total_cpi[\"DATE\"]<\"01-2021\")]\n",
        "total_cpi=total_cpi.drop(['DATE'], axis = 1)\n",
        "total_cpi=total_cpi.reset_index()\n",
        "total_cpi=total_cpi.drop(['index'], axis=1)\n",
        "#print(total_cpi.head(10))\n",
        "\n",
        "unemploy=pd.read_csv(\"UNEMPLOY.csv\")\n",
        "unemploy['DATE'] = pd.to_datetime(unemploy['DATE'])\n",
        "unemploy['Date'] = unemploy['DATE'].dt.strftime('%m-%Y')\n",
        "unemploy=unemploy[(unemploy[\"DATE\"]>\"12-1999\") & (unemploy[\"DATE\"]<\"01-2021\")]\n",
        "unemploy=unemploy.drop(['DATE'], axis = 1)\n",
        "unemploy=unemploy.reset_index()\n",
        "unemploy=unemploy.drop(['index'],axis=1)\n",
        "#print(unemploy.head(10))\n",
        "\n",
        "\n",
        "pce=pd.read_csv(\"PCE.csv\")\n",
        "pce['DATE'] = pd.to_datetime(pce['DATE'])\n",
        "pce['Date'] = pce['DATE'].dt.strftime('%m-%Y')\n",
        "pce=pce[(pce[\"DATE\"]>\"12-1999\") & (pce[\"DATE\"]<\"01-2021\")]\n",
        "pce=pce.drop(['DATE'], axis = 1)\n",
        "pce=pce.reset_index()\n",
        "pce=pce.drop(['index'],axis=1)\n",
        "#print(pce.head(10))\n",
        "\n",
        "hcpi=pd.read_csv(\"CPIHOSSL.csv\")\n",
        "hcpi['DATE'] = pd.to_datetime(hcpi['DATE'])\n",
        "hcpi['Date'] = hcpi['DATE'].dt.strftime('%m-%Y')\n",
        "hcpi=hcpi[(hcpi[\"DATE\"]>\"12-1999\") & (hcpi[\"DATE\"]<\"01-2021\")]\n",
        "hcpi=hcpi.drop(['DATE'], axis = 1)\n",
        "hcpi=hcpi.reset_index()\n",
        "hcpi=hcpi.drop(['index'],axis=1)\n",
        "#print(hcpi.head(10))\n",
        "\n",
        "bank_creds=pd.read_csv(\"H8B1001NCBCMG.csv\")\n",
        "bank_creds['DATE'] = pd.to_datetime(bank_creds['DATE'])\n",
        "bank_creds['Date'] = bank_creds['DATE'].dt.strftime('%m-%Y')\n",
        "bank_creds=bank_creds[(bank_creds[\"DATE\"]>\"12-1999\") & (bank_creds[\"DATE\"]<\"01-2021\")]\n",
        "bank_creds=bank_creds.drop(['DATE'], axis = 1)\n",
        "bank_creds=bank_creds.reset_index()\n",
        "bank_creds=bank_creds.drop(['index'],axis=1)\n",
        "#print(bank_creds.head(10))\n",
        "\n",
        "month_supply=pd.read_csv(\"MSACSR.csv\")\n",
        "month_supply['DATE'] = pd.to_datetime(month_supply['DATE'])\n",
        "month_supply['Date'] = month_supply['DATE'].dt.strftime('%m-%Y')\n",
        "month_supply=month_supply[(month_supply[\"DATE\"]>\"12-1999\") & (month_supply[\"DATE\"]<\"01-2021\")]\n",
        "month_supply=month_supply.drop(['DATE'], axis = 1)\n",
        "month_supply=month_supply.reset_index()\n",
        "month_supply=month_supply.drop(['index'],axis=1)\n",
        "#print(month_supply.head(10))\n",
        "\n",
        "pop=pd.read_csv(\"POPTHM.csv\")\n",
        "pop['DATE'] = pd.to_datetime(pop['DATE'])\n",
        "pop['Date'] = pop['DATE'].dt.strftime('%m-%Y')\n",
        "pop=pop[(pop[\"DATE\"]>\"12-1999\") & (pop[\"DATE\"]<\"01-2021\")]\n",
        "pop=pop.drop(['DATE'], axis = 1)\n",
        "pop=pop.reset_index()\n",
        "pop=pop.drop(['index'],axis=1)\n",
        "#print(pop.head(10))\n",
        "\n",
        "employ_pop=pd.read_csv(\"LNU02300000.csv\")\n",
        "employ_pop['DATE'] = pd.to_datetime(employ_pop['DATE'])\n",
        "employ_pop['Date'] = employ_pop['DATE'].dt.strftime('%m-%Y')\n",
        "employ_pop=employ_pop[(employ_pop[\"DATE\"]>\"12-1999\") & (employ_pop[\"DATE\"]<\"01-2021\")]\n",
        "employ_pop=employ_pop.drop(['DATE'], axis = 1)\n",
        "employ_pop=employ_pop.reset_index()\n",
        "employ_pop=employ_pop.drop(['index'],axis=1)\n",
        "#print(employ_pop.head(10))\n",
        "\n",
        "interest_rate=pd.read_csv(\"INTDSRUSM193N.csv\")\n",
        "interest_rate['DATE'] = pd.to_datetime(interest_rate['DATE'])\n",
        "interest_rate['Date'] = interest_rate['DATE'].dt.strftime('%m-%Y')\n",
        "interest_rate=interest_rate[(interest_rate[\"DATE\"]>\"12-1999\") & (interest_rate[\"DATE\"]<\"01-2021\")]\n",
        "interest_rate=interest_rate.drop(['DATE'], axis = 1)\n",
        "interest_rate=interest_rate.reset_index()\n",
        "interest_rate=interest_rate.drop(['index'],axis=1)\n",
        "#print(interest_rate.head(10))\n",
        "\n",
        "total_ip=pd.read_csv('INDPRO.csv')\n",
        "total_ip['DATE'] = pd.to_datetime(total_ip['DATE'])\n",
        "total_ip['Date'] = total_ip['DATE'].dt.strftime('%m-%Y')\n",
        "total_ip=total_ip[(total_ip[\"DATE\"]>\"12-1999\") & (total_ip[\"DATE\"]<\"01-2021\")]\n",
        "total_ip=total_ip.drop(['DATE'], axis = 1)\n",
        "total_ip=total_ip.reset_index()\n",
        "total_ip=total_ip.drop(['index'],axis=1)\n",
        "#print(total_ip.head(10))\n",
        "\n",
        "wood_ip=pd.read_csv('IPG321S.csv')\n",
        "wood_ip['DATE'] = pd.to_datetime(wood_ip['DATE'])\n",
        "wood_ip['Date'] = wood_ip['DATE'].dt.strftime('%m-%Y')\n",
        "wood_ip=wood_ip[(wood_ip[\"DATE\"]>\"12-1999\") & (wood_ip[\"DATE\"]<\"01-2021\")]\n",
        "wood_ip=wood_ip.drop(['DATE'], axis = 1)\n",
        "wood_ip=wood_ip.reset_index()\n",
        "wood_ip=wood_ip.drop(['index'],axis=1)\n",
        "#print(wood_ip.head(10))\n",
        "\n",
        "machinery_ip=pd.read_csv(\"IPG333S.csv\")\n",
        "machinery_ip['DATE'] = pd.to_datetime(machinery_ip['DATE'])\n",
        "machinery_ip['Date'] = machinery_ip['DATE'].dt.strftime('%m-%Y')\n",
        "machinery_ip=machinery_ip[(machinery_ip[\"DATE\"]>\"12-1999\") & (machinery_ip[\"DATE\"]<\"01-2021\")]\n",
        "machinery_ip=machinery_ip.drop(['DATE'], axis = 1)\n",
        "machinery_ip=machinery_ip.reset_index()\n",
        "machinery_ip=machinery_ip.drop(['index'],axis=1)\n",
        "#print(machinery_ip.head(10))\n",
        "\n",
        "construction_ip=pd.read_csv(\"IPB54100S.csv\")\n",
        "construction_ip['DATE'] = pd.to_datetime(construction_ip['DATE'])\n",
        "construction_ip['Date'] = construction_ip['DATE'].dt.strftime('%m-%Y')\n",
        "construction_ip=construction_ip[(construction_ip[\"DATE\"]>\"12-1999\") & (construction_ip[\"DATE\"]<\"01-2021\")]\n",
        "construction_ip=construction_ip.drop(['DATE'], axis = 1)\n",
        "construction_ip=construction_ip.reset_index()\n",
        "construction_ip=construction_ip.drop(['index'],axis=1)\n",
        "#print(construction_ip.head(10))\n",
        "\n",
        "electric_ip=pd.read_csv(\"IPB53122S.csv\")\n",
        "electric_ip['DATE'] = pd.to_datetime(electric_ip['DATE'])\n",
        "electric_ip['Date'] = electric_ip['DATE'].dt.strftime('%m-%Y')\n",
        "electric_ip=electric_ip[(electric_ip[\"DATE\"]>\"12-1999\") & (electric_ip[\"DATE\"]<\"01-2021\")]\n",
        "electric_ip=electric_ip.drop(['DATE'], axis = 1)\n",
        "electric_ip=electric_ip.reset_index()\n",
        "electric_ip=electric_ip.drop(['index'],axis=1)\n",
        "#print(electric_ip.head(10))\n",
        "\n",
        "\n",
        "df3=pd.read_csv(\"MORTGAGE30US.csv\")\n",
        "df3['DATE'] = pd.to_datetime(df3['DATE'])\n",
        "df3['Date'] = df3['DATE'].dt.strftime('%m-%Y')\n",
        "df3=df3.drop(['DATE'], axis = 1)\n",
        "df3['Date'] = pd.to_datetime(df3['Date'])\n",
        "df3=df3.groupby( pd.Grouper(key='Date', freq=\"M\")).mean()\n",
        "dat1=df3['MORTGAGE30US']\n",
        "dat1 = dat1.values.tolist()\n",
        "dates1= pd.date_range(start='04-1971', periods=604, freq='M')\n",
        "monthly1 = pd.Series(data=dat1, index=dates1)\n",
        "monthly1=monthly1.to_frame('MORTGAGE30US')\n",
        "monthly1.index.name=\"Date\"\n",
        "df3=monthly1.reset_index()\n",
        "data_mort=df3[(df3[\"Date\"]>\"2000-01-01\") & (df3[\"Date\"]<\"2021-01-01\")]\n",
        "mortgage=data_mort.reset_index()\n",
        "mortgage=mortgage.drop(['index'],axis=1)\n",
        "mortgage['Date'] = mortgage['Date'].dt.strftime('%m-%Y')\n",
        "#print(mortgage.head(20))\n",
        "\n",
        "df6=pd.read_csv(\"ETOTALUSQ176N.csv\")\n",
        "dat=df6['ETOTALUSQ176N']\n",
        "dat = dat.values.tolist()\n",
        "df6['DATE'] = pd.to_datetime(df6['DATE']).dt.strftime('%m-%d-%Y')\n",
        "dates= pd.date_range(start='2000', periods=84, freq='Q')\n",
        "quarterly = pd.Series(data=dat, index=dates)\n",
        "inventory= quarterly.asfreq('M') \n",
        "dates = pd.date_range(start='2000', periods=252, freq='M')\n",
        "inventory=inventory.reindex(dates) \n",
        "inventory= inventory.to_frame('baseline')\n",
        "inventory['ETOTALUSQ176N'] = quarterly.asfreq('M', method='bfill') \n",
        "inventory.loc['2000-01-31'] = pd.Series({'ETOTALUSQ176N':116047.0})\n",
        "inventory.loc['2000-02-29'] = pd.Series({'ETOTALUSQ176N':116047.0})\n",
        "inventory=inventory.drop(['baseline'], axis = 1)\n",
        "inventory['Date'] = inventory.index\n",
        "inventory.reset_index(drop=True, inplace=True)\n",
        "inventory['Date'] = inventory['Date'].dt.strftime('%m-%Y')\n",
        "#print(inventory.head(10))\n",
        "\n",
        "df=pd.read_csv(\"GDP.csv\")\n",
        "gdp_l=df['GDP']\n",
        "gdp_l= gdp_l.values.tolist()\n",
        "df['DATE'] = pd.to_datetime(df['DATE']).dt.strftime('%m-%d-%Y')\n",
        "dates1= pd.date_range(start='1947', periods=297, freq='Q')\n",
        "quarterly1 = pd.Series(data=gdp_l, index=dates1)\n",
        "gdp= quarterly1.asfreq('M') \n",
        "dates1= pd.date_range(start='2000', periods=252, freq='M')\n",
        "gdp=gdp.reindex(dates1) \n",
        "gdp=gdp.to_frame('baseline')\n",
        "gdp['GDP'] = quarterly1.asfreq('M', method='bfill') \n",
        "gdp.loc['2000-01-31'] = pd.Series({'GDP':10002.857})\n",
        "gdp.loc['2000-02-29'] = pd.Series({'GDP':10002.857})\n",
        "gdp=gdp.drop(['baseline'], axis = 1)\n",
        "gdp['Date'] = gdp.index\n",
        "gdp.reset_index(drop=True, inplace=True)\n",
        "gdp['Date'] = gdp['Date'].dt.strftime('%m-%Y')\n",
        "#print(gdp.head(10))\n",
        "\n",
        "df1=pd.read_csv(\"GDI.csv\")\n",
        "gdi_l=df1['GDI']\n",
        "gdi_l= gdi_l.values.tolist()\n",
        "df1['DATE'] = pd.to_datetime(df1['DATE']).dt.strftime('%m-%d-%Y')\n",
        "dates2= pd.date_range(start='1947', periods=297, freq='Q')\n",
        "quarterly2 = pd.Series(data=gdi_l, index=dates2)\n",
        "gdi= quarterly2.asfreq('M') \n",
        "dates2= pd.date_range(start='2000', periods=252, freq='M')\n",
        "gdi=gdi.reindex(dates2) \n",
        "gdi=gdi.to_frame('baseline')\n",
        "gdi['GDI'] = quarterly2.asfreq('M', method='bfill') \n",
        "gdi.loc['2000-01-31'] = pd.Series({'GDI':10179.913})\n",
        "gdi.loc['2000-02-29'] = pd.Series({'GDI':10179.913})\n",
        "gdi=gdi.drop(['baseline'], axis = 1)\n",
        "gdi['Date'] = gdi.index\n",
        "gdi.reset_index(drop=True, inplace=True)\n",
        "gdi['Date'] = gdi['Date'].dt.strftime('%m-%Y')\n",
        "#print(gdi.head(10))\n",
        "\n",
        "f_join=pd.merge(total_cpi, unemploy,  how=\"outer\", on=[ \"Date\"])\n",
        "f_join1 = pd.merge(gdp, mortgage,  how=\"outer\", on=[\"Date\"])\n",
        "f_join_1 = pd.merge(f_join, f_join1,  how=\"outer\", on=[\"Date\"])\n",
        "f_join2 = pd.merge(pce, hcpi,  how=\"outer\", on=[\"Date\"])\n",
        "f_join3 = pd.merge(pop, employ_pop,  how=\"outer\", on=[\"Date\"])\n",
        "f_join_2 = pd.merge(f_join2, f_join3,  how=\"outer\", on=[\"Date\"])\n",
        "f_join4 = pd.merge(gdi, interest_rate,  how=\"outer\", on=[\"Date\"])\n",
        "f_join5 = pd.merge(bank_creds, inventory,  how=\"outer\", on=[\"Date\"])\n",
        "f_join_3 = pd.merge(f_join4, f_join5,  how=\"outer\", on=[\"Date\"])\n",
        "f_join6 = pd.merge(month_supply, total_ip,  how=\"outer\", on=[\"Date\"])\n",
        "f_join7 = pd.merge(construction_ip, machinery_ip,  how=\"outer\", on=[\"Date\"])\n",
        "f_join_4 = pd.merge(f_join6, f_join7,  how=\"outer\", on=[\"Date\"])\n",
        "f_join_5 = pd.merge(f_join_1, f_join_2,  how=\"outer\", on=[\"Date\"])\n",
        "f_join_6 = pd.merge(f_join_4, f_join_3,  how=\"outer\", on=[\"Date\"])\n",
        "f_join_7 = pd.merge(f_join_5, f_join_6,  how=\"outer\", on=[\"Date\"])\n",
        "f_join8 = pd.merge(electric_ip, wood_ip,  how=\"outer\", on=[\"Date\"])\n",
        "f_join_8 = pd.merge(f_join_7, f_join8,  how=\"outer\", on=[\"Date\"])\n",
        "dataset = pd.merge(f_join_8, HPI,  how=\"outer\", on=[\"Date\"])\n",
        "print(dataset.head(3))\n",
        "print(dataset.info())\n"
      ],
      "execution_count": 79,
      "outputs": [
        {
          "output_type": "stream",
          "text": [
            "   CPALTT01USM657N     Date  UNEMPLOY  ...  IPB53122S   IPG321S  CSUSHPISA\n",
            "0         0.297089  01-2000      5708  ...     3.8603  121.6639    100.552\n",
            "1         0.592417  02-2000      5858  ...     3.9945  121.2380    101.339\n",
            "2         0.824499  03-2000      5733  ...     4.1880  121.6561    102.127\n",
            "\n",
            "[3 rows x 20 columns]\n",
            "<class 'pandas.core.frame.DataFrame'>\n",
            "Int64Index: 252 entries, 0 to 251\n",
            "Data columns (total 20 columns):\n",
            " #   Column           Non-Null Count  Dtype  \n",
            "---  ------           --------------  -----  \n",
            " 0   CPALTT01USM657N  252 non-null    float64\n",
            " 1   Date             252 non-null    object \n",
            " 2   UNEMPLOY         252 non-null    int64  \n",
            " 3   GDP              252 non-null    float64\n",
            " 4   MORTGAGE30US     252 non-null    float64\n",
            " 5   PCE              252 non-null    float64\n",
            " 6   CPIHOSSL         252 non-null    float64\n",
            " 7   POPTHM           252 non-null    float64\n",
            " 8   LNU02300000      252 non-null    float64\n",
            " 9   MSACSR           252 non-null    float64\n",
            " 10  INDPRO           252 non-null    float64\n",
            " 11  IPB54100S        252 non-null    float64\n",
            " 12  IPG333S          252 non-null    float64\n",
            " 13  GDI              252 non-null    float64\n",
            " 14  INTDSRUSM193N    252 non-null    float64\n",
            " 15  H8B1001NCBCMG    252 non-null    float64\n",
            " 16  ETOTALUSQ176N    252 non-null    float64\n",
            " 17  IPB53122S        252 non-null    float64\n",
            " 18  IPG321S          252 non-null    float64\n",
            " 19  CSUSHPISA        252 non-null    float64\n",
            "dtypes: float64(18), int64(1), object(1)\n",
            "memory usage: 41.3+ KB\n",
            "None\n"
          ],
          "name": "stdout"
        }
      ]
    },
    {
      "cell_type": "markdown",
      "metadata": {
        "id": "gSG8YadmIgTV"
      },
      "source": [
        "C) Splitting Dataset into Training and Test Sets."
      ]
    },
    {
      "cell_type": "code",
      "metadata": {
        "colab": {
          "base_uri": "https://localhost:8080/"
        },
        "id": "-vYoMEAy9I5t",
        "outputId": "0fefdd29-3270-43bf-d558-cfcdb07d071a"
      },
      "source": [
        "from sklearn.model_selection import train_test_split\n",
        "\n",
        "train_data, test_data=train_test_split(dataset, test_size=0.2)\n",
        "print(train_data.info())\n",
        "actual_price_test=test_data.CSUSHPISA.values\n",
        "print(actual_price_test)\n",
        "test_data=test_data.drop([\"CSUSHPISA\"], axis=1)\n",
        "print(test_data.info())"
      ],
      "execution_count": 4,
      "outputs": [
        {
          "output_type": "stream",
          "text": [
            "<class 'pandas.core.frame.DataFrame'>\n",
            "Int64Index: 201 entries, 49 to 53\n",
            "Data columns (total 20 columns):\n",
            " #   Column           Non-Null Count  Dtype  \n",
            "---  ------           --------------  -----  \n",
            " 0   CPALTT01USM657N  201 non-null    float64\n",
            " 1   Date             201 non-null    object \n",
            " 2   UNEMPLOY         201 non-null    int64  \n",
            " 3   GDP              201 non-null    float64\n",
            " 4   MORTGAGE30US     201 non-null    float64\n",
            " 5   PCE              201 non-null    float64\n",
            " 6   CPIHOSSL         201 non-null    float64\n",
            " 7   POPTHM           201 non-null    float64\n",
            " 8   LNU02300000      201 non-null    float64\n",
            " 9   MSACSR           201 non-null    float64\n",
            " 10  INDPRO           201 non-null    float64\n",
            " 11  IPB54100S        201 non-null    float64\n",
            " 12  IPG333S          201 non-null    float64\n",
            " 13  GDI              201 non-null    float64\n",
            " 14  INTDSRUSM193N    201 non-null    float64\n",
            " 15  H8B1001NCBCMG    201 non-null    float64\n",
            " 16  ETOTALUSQ176N    201 non-null    float64\n",
            " 17  IPB53122S        201 non-null    float64\n",
            " 18  IPG321S          201 non-null    float64\n",
            " 19  CSUSHPISA        201 non-null    float64\n",
            "dtypes: float64(18), int64(1), object(1)\n",
            "memory usage: 33.0+ KB\n",
            "None\n",
            "[140.358 176.627 174.442 173.858 104.424 154.208 184.141 202.535 211.062\n",
            " 205.458 172.859 136.674 123.83  176.437 184.157 151.336 143.015 117.845\n",
            " 183.068 178.12  147.783 163.096 235.568 217.838 102.127 189.745 156.98\n",
            " 190.653 193.857 156.142 180.148 120.724 188.027 111.108 188.823 180.256\n",
            " 209.661 114.81  130.148 105.768 111.65  137.953 208.682 161.287 194.819\n",
            " 217.457 143.602 168.066 125.733 140.16  187.302]\n",
            "<class 'pandas.core.frame.DataFrame'>\n",
            "Int64Index: 51 entries, 133 to 205\n",
            "Data columns (total 19 columns):\n",
            " #   Column           Non-Null Count  Dtype  \n",
            "---  ------           --------------  -----  \n",
            " 0   CPALTT01USM657N  51 non-null     float64\n",
            " 1   Date             51 non-null     object \n",
            " 2   UNEMPLOY         51 non-null     int64  \n",
            " 3   GDP              51 non-null     float64\n",
            " 4   MORTGAGE30US     51 non-null     float64\n",
            " 5   PCE              51 non-null     float64\n",
            " 6   CPIHOSSL         51 non-null     float64\n",
            " 7   POPTHM           51 non-null     float64\n",
            " 8   LNU02300000      51 non-null     float64\n",
            " 9   MSACSR           51 non-null     float64\n",
            " 10  INDPRO           51 non-null     float64\n",
            " 11  IPB54100S        51 non-null     float64\n",
            " 12  IPG333S          51 non-null     float64\n",
            " 13  GDI              51 non-null     float64\n",
            " 14  INTDSRUSM193N    51 non-null     float64\n",
            " 15  H8B1001NCBCMG    51 non-null     float64\n",
            " 16  ETOTALUSQ176N    51 non-null     float64\n",
            " 17  IPB53122S        51 non-null     float64\n",
            " 18  IPG321S          51 non-null     float64\n",
            "dtypes: float64(17), int64(1), object(1)\n",
            "memory usage: 8.0+ KB\n",
            "None\n"
          ],
          "name": "stdout"
        }
      ]
    },
    {
      "cell_type": "code",
      "metadata": {
        "colab": {
          "base_uri": "https://localhost:8080/"
        },
        "id": "zdTl1w6xB9VG",
        "outputId": "ab81a730-445d-45c6-de78-51713a9c4998"
      },
      "source": [
        "trainshape = (\"Train Data:\",train_data.shape[0],\"obs, and\", train_data.shape[1], \"features\" )\n",
        "print(\"\\033[95m {}\\033[00m\" .format(trainshape))\n",
        "testshape = (\"Test Data:\",test_data.shape[0],\"obs, and\", test_data.shape[1], \"features\" )\n",
        "print(\"\\033[95m {}\\033[00m\" .format(testshape))"
      ],
      "execution_count": 5,
      "outputs": [
        {
          "output_type": "stream",
          "text": [
            "\u001b[95m ('Train Data:', 201, 'obs, and', 20, 'features')\u001b[00m\n",
            "\u001b[95m ('Test Data:', 51, 'obs, and', 19, 'features')\u001b[00m\n"
          ],
          "name": "stdout"
        }
      ]
    },
    {
      "cell_type": "code",
      "metadata": {
        "id": "yJLaevHtLf_x",
        "colab": {
          "base_uri": "https://localhost:8080/"
        },
        "outputId": "7a235b45-9c30-4dc2-bcb0-76eb2c98872f"
      },
      "source": [
        "#save id \n",
        "train_id = train_data[\"Date\"]\n",
        "test_id = test_data[\"Date\"]\n",
        "\n",
        "#drop id\n",
        "train_data.drop(\"Date\" , axis = 1 , inplace = True)\n",
        "test_data.drop(\"Date\" , axis = 1 , inplace = True)\n",
        "print(train_data.info())\n",
        "print(test_data.info())"
      ],
      "execution_count": 6,
      "outputs": [
        {
          "output_type": "stream",
          "text": [
            "<class 'pandas.core.frame.DataFrame'>\n",
            "Int64Index: 201 entries, 49 to 53\n",
            "Data columns (total 19 columns):\n",
            " #   Column           Non-Null Count  Dtype  \n",
            "---  ------           --------------  -----  \n",
            " 0   CPALTT01USM657N  201 non-null    float64\n",
            " 1   UNEMPLOY         201 non-null    int64  \n",
            " 2   GDP              201 non-null    float64\n",
            " 3   MORTGAGE30US     201 non-null    float64\n",
            " 4   PCE              201 non-null    float64\n",
            " 5   CPIHOSSL         201 non-null    float64\n",
            " 6   POPTHM           201 non-null    float64\n",
            " 7   LNU02300000      201 non-null    float64\n",
            " 8   MSACSR           201 non-null    float64\n",
            " 9   INDPRO           201 non-null    float64\n",
            " 10  IPB54100S        201 non-null    float64\n",
            " 11  IPG333S          201 non-null    float64\n",
            " 12  GDI              201 non-null    float64\n",
            " 13  INTDSRUSM193N    201 non-null    float64\n",
            " 14  H8B1001NCBCMG    201 non-null    float64\n",
            " 15  ETOTALUSQ176N    201 non-null    float64\n",
            " 16  IPB53122S        201 non-null    float64\n",
            " 17  IPG321S          201 non-null    float64\n",
            " 18  CSUSHPISA        201 non-null    float64\n",
            "dtypes: float64(18), int64(1)\n",
            "memory usage: 31.4 KB\n",
            "None\n",
            "<class 'pandas.core.frame.DataFrame'>\n",
            "Int64Index: 51 entries, 133 to 205\n",
            "Data columns (total 18 columns):\n",
            " #   Column           Non-Null Count  Dtype  \n",
            "---  ------           --------------  -----  \n",
            " 0   CPALTT01USM657N  51 non-null     float64\n",
            " 1   UNEMPLOY         51 non-null     int64  \n",
            " 2   GDP              51 non-null     float64\n",
            " 3   MORTGAGE30US     51 non-null     float64\n",
            " 4   PCE              51 non-null     float64\n",
            " 5   CPIHOSSL         51 non-null     float64\n",
            " 6   POPTHM           51 non-null     float64\n",
            " 7   LNU02300000      51 non-null     float64\n",
            " 8   MSACSR           51 non-null     float64\n",
            " 9   INDPRO           51 non-null     float64\n",
            " 10  IPB54100S        51 non-null     float64\n",
            " 11  IPG333S          51 non-null     float64\n",
            " 12  GDI              51 non-null     float64\n",
            " 13  INTDSRUSM193N    51 non-null     float64\n",
            " 14  H8B1001NCBCMG    51 non-null     float64\n",
            " 15  ETOTALUSQ176N    51 non-null     float64\n",
            " 16  IPB53122S        51 non-null     float64\n",
            " 17  IPG321S          51 non-null     float64\n",
            "dtypes: float64(17), int64(1)\n",
            "memory usage: 7.6 KB\n",
            "None\n"
          ],
          "name": "stdout"
        }
      ]
    },
    {
      "cell_type": "markdown",
      "metadata": {
        "id": "utoqES86I5Th"
      },
      "source": [
        "D) Exploratory Data Analysis\n",
        " "
      ]
    },
    {
      "cell_type": "code",
      "metadata": {
        "colab": {
          "base_uri": "https://localhost:8080/",
          "height": 634
        },
        "id": "mzWgIW2vCleE",
        "outputId": "0ec18dfa-7f9c-4c37-d3a4-768123453df8"
      },
      "source": [
        "train_data.describe().T"
      ],
      "execution_count": 7,
      "outputs": [
        {
          "output_type": "execute_result",
          "data": {
            "text/html": [
              "<div>\n",
              "<style scoped>\n",
              "    .dataframe tbody tr th:only-of-type {\n",
              "        vertical-align: middle;\n",
              "    }\n",
              "\n",
              "    .dataframe tbody tr th {\n",
              "        vertical-align: top;\n",
              "    }\n",
              "\n",
              "    .dataframe thead th {\n",
              "        text-align: right;\n",
              "    }\n",
              "</style>\n",
              "<table border=\"1\" class=\"dataframe\">\n",
              "  <thead>\n",
              "    <tr style=\"text-align: right;\">\n",
              "      <th></th>\n",
              "      <th>count</th>\n",
              "      <th>mean</th>\n",
              "      <th>std</th>\n",
              "      <th>min</th>\n",
              "      <th>25%</th>\n",
              "      <th>50%</th>\n",
              "      <th>75%</th>\n",
              "      <th>max</th>\n",
              "    </tr>\n",
              "  </thead>\n",
              "  <tbody>\n",
              "    <tr>\n",
              "      <th>CPALTT01USM657N</th>\n",
              "      <td>201.0</td>\n",
              "      <td>0.179367</td>\n",
              "      <td>0.350704</td>\n",
              "      <td>-1.034247</td>\n",
              "      <td>-0.053624</td>\n",
              "      <td>0.176676</td>\n",
              "      <td>0.440019</td>\n",
              "      <td>1.0077</td>\n",
              "    </tr>\n",
              "    <tr>\n",
              "      <th>UNEMPLOY</th>\n",
              "      <td>201.0</td>\n",
              "      <td>9272.407960</td>\n",
              "      <td>2957.944305</td>\n",
              "      <td>5481.000000</td>\n",
              "      <td>7091.000000</td>\n",
              "      <td>8251.000000</td>\n",
              "      <td>11335.000000</td>\n",
              "      <td>17697.0000</td>\n",
              "    </tr>\n",
              "    <tr>\n",
              "      <th>GDP</th>\n",
              "      <td>201.0</td>\n",
              "      <td>15507.351577</td>\n",
              "      <td>3359.803881</td>\n",
              "      <td>10002.857000</td>\n",
              "      <td>12910.022000</td>\n",
              "      <td>14926.098000</td>\n",
              "      <td>18223.577000</td>\n",
              "      <td>21747.3940</td>\n",
              "    </tr>\n",
              "    <tr>\n",
              "      <th>MORTGAGE30US</th>\n",
              "      <td>201.0</td>\n",
              "      <td>5.082522</td>\n",
              "      <td>1.292523</td>\n",
              "      <td>2.765000</td>\n",
              "      <td>3.967500</td>\n",
              "      <td>4.857500</td>\n",
              "      <td>6.095000</td>\n",
              "      <td>8.5150</td>\n",
              "    </tr>\n",
              "    <tr>\n",
              "      <th>PCE</th>\n",
              "      <td>201.0</td>\n",
              "      <td>10488.311443</td>\n",
              "      <td>2320.559070</td>\n",
              "      <td>6535.300000</td>\n",
              "      <td>8643.900000</td>\n",
              "      <td>10112.900000</td>\n",
              "      <td>12264.500000</td>\n",
              "      <td>14880.5000</td>\n",
              "    </tr>\n",
              "    <tr>\n",
              "      <th>CPIHOSSL</th>\n",
              "      <td>201.0</td>\n",
              "      <td>218.277080</td>\n",
              "      <td>28.259895</td>\n",
              "      <td>166.500000</td>\n",
              "      <td>194.300000</td>\n",
              "      <td>217.304000</td>\n",
              "      <td>237.210000</td>\n",
              "      <td>273.8980</td>\n",
              "    </tr>\n",
              "    <tr>\n",
              "      <th>POPTHM</th>\n",
              "      <td>201.0</td>\n",
              "      <td>308171.099502</td>\n",
              "      <td>14473.826540</td>\n",
              "      <td>281083.000000</td>\n",
              "      <td>295359.000000</td>\n",
              "      <td>309279.000000</td>\n",
              "      <td>320574.000000</td>\n",
              "      <td>330829.0000</td>\n",
              "    </tr>\n",
              "    <tr>\n",
              "      <th>LNU02300000</th>\n",
              "      <td>201.0</td>\n",
              "      <td>60.719900</td>\n",
              "      <td>2.065140</td>\n",
              "      <td>54.900000</td>\n",
              "      <td>58.900000</td>\n",
              "      <td>60.400000</td>\n",
              "      <td>62.600000</td>\n",
              "      <td>64.8000</td>\n",
              "    </tr>\n",
              "    <tr>\n",
              "      <th>MSACSR</th>\n",
              "      <td>201.0</td>\n",
              "      <td>5.832836</td>\n",
              "      <td>1.996175</td>\n",
              "      <td>3.500000</td>\n",
              "      <td>4.300000</td>\n",
              "      <td>5.300000</td>\n",
              "      <td>6.700000</td>\n",
              "      <td>12.2000</td>\n",
              "    </tr>\n",
              "    <tr>\n",
              "      <th>INDPRO</th>\n",
              "      <td>201.0</td>\n",
              "      <td>96.421544</td>\n",
              "      <td>4.904928</td>\n",
              "      <td>84.784100</td>\n",
              "      <td>92.401900</td>\n",
              "      <td>97.353000</td>\n",
              "      <td>100.791800</td>\n",
              "      <td>104.1659</td>\n",
              "    </tr>\n",
              "    <tr>\n",
              "      <th>IPB54100S</th>\n",
              "      <td>201.0</td>\n",
              "      <td>101.834174</td>\n",
              "      <td>10.841624</td>\n",
              "      <td>80.551600</td>\n",
              "      <td>94.104900</td>\n",
              "      <td>99.877000</td>\n",
              "      <td>110.118700</td>\n",
              "      <td>122.2184</td>\n",
              "    </tr>\n",
              "    <tr>\n",
              "      <th>IPG333S</th>\n",
              "      <td>201.0</td>\n",
              "      <td>102.639575</td>\n",
              "      <td>8.703174</td>\n",
              "      <td>80.999800</td>\n",
              "      <td>96.239700</td>\n",
              "      <td>103.004700</td>\n",
              "      <td>110.068500</td>\n",
              "      <td>120.5149</td>\n",
              "    </tr>\n",
              "    <tr>\n",
              "      <th>GDI</th>\n",
              "      <td>201.0</td>\n",
              "      <td>15566.645368</td>\n",
              "      <td>3380.885822</td>\n",
              "      <td>10179.913000</td>\n",
              "      <td>12954.130000</td>\n",
              "      <td>14819.448000</td>\n",
              "      <td>18464.848000</td>\n",
              "      <td>21846.3350</td>\n",
              "    </tr>\n",
              "    <tr>\n",
              "      <th>INTDSRUSM193N</th>\n",
              "      <td>201.0</td>\n",
              "      <td>2.139751</td>\n",
              "      <td>1.810346</td>\n",
              "      <td>0.250000</td>\n",
              "      <td>0.750000</td>\n",
              "      <td>1.250000</td>\n",
              "      <td>3.000000</td>\n",
              "      <td>6.2500</td>\n",
              "    </tr>\n",
              "    <tr>\n",
              "      <th>H8B1001NCBCMG</th>\n",
              "      <td>201.0</td>\n",
              "      <td>4.334826</td>\n",
              "      <td>6.155931</td>\n",
              "      <td>-12.800000</td>\n",
              "      <td>1.300000</td>\n",
              "      <td>4.700000</td>\n",
              "      <td>7.700000</td>\n",
              "      <td>40.2000</td>\n",
              "    </tr>\n",
              "    <tr>\n",
              "      <th>ETOTALUSQ176N</th>\n",
              "      <td>201.0</td>\n",
              "      <td>130528.611940</td>\n",
              "      <td>6793.061576</td>\n",
              "      <td>116047.000000</td>\n",
              "      <td>125619.000000</td>\n",
              "      <td>131867.000000</td>\n",
              "      <td>135368.000000</td>\n",
              "      <td>141533.0000</td>\n",
              "    </tr>\n",
              "    <tr>\n",
              "      <th>IPB53122S</th>\n",
              "      <td>201.0</td>\n",
              "      <td>48.732072</td>\n",
              "      <td>35.963474</td>\n",
              "      <td>3.860300</td>\n",
              "      <td>16.545500</td>\n",
              "      <td>39.059700</td>\n",
              "      <td>80.876300</td>\n",
              "      <td>118.1193</td>\n",
              "    </tr>\n",
              "    <tr>\n",
              "      <th>IPG321S</th>\n",
              "      <td>201.0</td>\n",
              "      <td>100.681661</td>\n",
              "      <td>15.159482</td>\n",
              "      <td>73.710100</td>\n",
              "      <td>89.651100</td>\n",
              "      <td>98.649900</td>\n",
              "      <td>114.247000</td>\n",
              "      <td>134.2763</td>\n",
              "    </tr>\n",
              "    <tr>\n",
              "      <th>CSUSHPISA</th>\n",
              "      <td>201.0</td>\n",
              "      <td>161.030542</td>\n",
              "      <td>29.739203</td>\n",
              "      <td>100.552000</td>\n",
              "      <td>141.528000</td>\n",
              "      <td>160.311000</td>\n",
              "      <td>181.911000</td>\n",
              "      <td>232.6290</td>\n",
              "    </tr>\n",
              "  </tbody>\n",
              "</table>\n",
              "</div>"
            ],
            "text/plain": [
              "                 count           mean  ...            75%          max\n",
              "CPALTT01USM657N  201.0       0.179367  ...       0.440019       1.0077\n",
              "UNEMPLOY         201.0    9272.407960  ...   11335.000000   17697.0000\n",
              "GDP              201.0   15507.351577  ...   18223.577000   21747.3940\n",
              "MORTGAGE30US     201.0       5.082522  ...       6.095000       8.5150\n",
              "PCE              201.0   10488.311443  ...   12264.500000   14880.5000\n",
              "CPIHOSSL         201.0     218.277080  ...     237.210000     273.8980\n",
              "POPTHM           201.0  308171.099502  ...  320574.000000  330829.0000\n",
              "LNU02300000      201.0      60.719900  ...      62.600000      64.8000\n",
              "MSACSR           201.0       5.832836  ...       6.700000      12.2000\n",
              "INDPRO           201.0      96.421544  ...     100.791800     104.1659\n",
              "IPB54100S        201.0     101.834174  ...     110.118700     122.2184\n",
              "IPG333S          201.0     102.639575  ...     110.068500     120.5149\n",
              "GDI              201.0   15566.645368  ...   18464.848000   21846.3350\n",
              "INTDSRUSM193N    201.0       2.139751  ...       3.000000       6.2500\n",
              "H8B1001NCBCMG    201.0       4.334826  ...       7.700000      40.2000\n",
              "ETOTALUSQ176N    201.0  130528.611940  ...  135368.000000  141533.0000\n",
              "IPB53122S        201.0      48.732072  ...      80.876300     118.1193\n",
              "IPG321S          201.0     100.681661  ...     114.247000     134.2763\n",
              "CSUSHPISA        201.0     161.030542  ...     181.911000     232.6290\n",
              "\n",
              "[19 rows x 8 columns]"
            ]
          },
          "metadata": {
            "tags": []
          },
          "execution_count": 7
        }
      ]
    },
    {
      "cell_type": "code",
      "metadata": {
        "colab": {
          "base_uri": "https://localhost:8080/",
          "height": 279
        },
        "id": "_ngGU_arDQvv",
        "outputId": "fdec3320-34e3-47ba-ed77-db90f73cd1d0"
      },
      "source": [
        "sns.distplot(train_data[\"CSUSHPISA\"] , color = \"g\", bins = 60 , hist_kws={\"alpha\": 0.4});"
      ],
      "execution_count": 8,
      "outputs": [
        {
          "output_type": "display_data",
          "data": {
            "image/png": "[encoded data removed]",
            "text/plain": [
              "<Figure size 432x288 with 1 Axes>"
            ]
          },
          "metadata": {
            "tags": [],
            "needs_background": "light"
          }
        }
      ]
    },
    {
      "cell_type": "code",
      "metadata": {
        "colab": {
          "base_uri": "https://localhost:8080/",
          "height": 815
        },
        "id": "_eFsa2ceEXMI",
        "outputId": "29b0dd91-a819-4dd3-b2a9-7ab90dde72dc"
      },
      "source": [
        "corrmatrix = train_data.corr()\n",
        "plt.figure(figsize = (16,12))\n",
        "columnss = corrmatrix.nlargest(21, \"CSUSHPISA\")[\"CSUSHPISA\"].index\n",
        "cm = np.corrcoef(train_data[columnss].values.T)\n",
        "sns.set(font_scale = 1.1)\n",
        "hm = sns.heatmap(cm, cbar = True, annot = True, square = True, cmap = \"RdPu\" ,  fmt = \".2f\", annot_kws = {\"size\": 10},\n",
        "                 yticklabels = columnss.values, xticklabels = columnss.values)\n",
        "plt.show()"
      ],
      "execution_count": 9,
      "outputs": [
        {
          "output_type": "display_data",
          "data": {
            "image/png": "[encoded data removed]",
            "text/plain": [
              "<Figure size 1152x864 with 2 Axes>"
            ]
          },
          "metadata": {
            "tags": [],
            "needs_background": "light"
          }
        }
      ]
    },
    {
      "cell_type": "markdown",
      "metadata": {
        "id": "Pi4sRII0JU8Z"
      },
      "source": [
        "To reduce multicollinearity, dropping two columns having high correlation coefficient."
      ]
    },
    {
      "cell_type": "code",
      "metadata": {
        "id": "4xi1OHnC6Cx2",
        "colab": {
          "base_uri": "https://localhost:8080/"
        },
        "outputId": "f0d2c391-84fb-4815-f347-4ab98433d24b"
      },
      "source": [
        " train_data=train_data.drop(columns=['IPB53122S','IPG321S'], axis=1)\n",
        " test_data=test_data.drop(columns=['IPB53122S','IPG321S'], axis=1)\n",
        "print(train_data.info())\n",
        "print(test_data.info())"
      ],
      "execution_count": 10,
      "outputs": [
        {
          "output_type": "stream",
          "text": [
            "<class 'pandas.core.frame.DataFrame'>\n",
            "Int64Index: 201 entries, 49 to 53\n",
            "Data columns (total 17 columns):\n",
            " #   Column           Non-Null Count  Dtype  \n",
            "---  ------           --------------  -----  \n",
            " 0   CPALTT01USM657N  201 non-null    float64\n",
            " 1   UNEMPLOY         201 non-null    int64  \n",
            " 2   GDP              201 non-null    float64\n",
            " 3   MORTGAGE30US     201 non-null    float64\n",
            " 4   PCE              201 non-null    float64\n",
            " 5   CPIHOSSL         201 non-null    float64\n",
            " 6   POPTHM           201 non-null    float64\n",
            " 7   LNU02300000      201 non-null    float64\n",
            " 8   MSACSR           201 non-null    float64\n",
            " 9   INDPRO           201 non-null    float64\n",
            " 10  IPB54100S        201 non-null    float64\n",
            " 11  IPG333S          201 non-null    float64\n",
            " 12  GDI              201 non-null    float64\n",
            " 13  INTDSRUSM193N    201 non-null    float64\n",
            " 14  H8B1001NCBCMG    201 non-null    float64\n",
            " 15  ETOTALUSQ176N    201 non-null    float64\n",
            " 16  CSUSHPISA        201 non-null    float64\n",
            "dtypes: float64(16), int64(1)\n",
            "memory usage: 28.3 KB\n",
            "None\n",
            "<class 'pandas.core.frame.DataFrame'>\n",
            "Int64Index: 51 entries, 133 to 205\n",
            "Data columns (total 16 columns):\n",
            " #   Column           Non-Null Count  Dtype  \n",
            "---  ------           --------------  -----  \n",
            " 0   CPALTT01USM657N  51 non-null     float64\n",
            " 1   UNEMPLOY         51 non-null     int64  \n",
            " 2   GDP              51 non-null     float64\n",
            " 3   MORTGAGE30US     51 non-null     float64\n",
            " 4   PCE              51 non-null     float64\n",
            " 5   CPIHOSSL         51 non-null     float64\n",
            " 6   POPTHM           51 non-null     float64\n",
            " 7   LNU02300000      51 non-null     float64\n",
            " 8   MSACSR           51 non-null     float64\n",
            " 9   INDPRO           51 non-null     float64\n",
            " 10  IPB54100S        51 non-null     float64\n",
            " 11  IPG333S          51 non-null     float64\n",
            " 12  GDI              51 non-null     float64\n",
            " 13  INTDSRUSM193N    51 non-null     float64\n",
            " 14  H8B1001NCBCMG    51 non-null     float64\n",
            " 15  ETOTALUSQ176N    51 non-null     float64\n",
            "dtypes: float64(15), int64(1)\n",
            "memory usage: 6.8 KB\n",
            "None\n"
          ],
          "name": "stdout"
        }
      ]
    },
    {
      "cell_type": "markdown",
      "metadata": {
        "id": "o4gs-oocJj7f"
      },
      "source": [
        "Displaying the 8 high weighted features affecting HPI."
      ]
    },
    {
      "cell_type": "code",
      "metadata": {
        "colab": {
          "base_uri": "https://localhost:8080/",
          "height": 584
        },
        "id": "AAs__abx6xeS",
        "outputId": "90532788-6dd2-4919-8b39-4ec13cd92e28"
      },
      "source": [
        "corrmatrix = train_data.corr()\n",
        "plt.figure(figsize = (12,8))\n",
        "columnss = corrmatrix.nlargest(8, \"CSUSHPISA\")[\"CSUSHPISA\"].index\n",
        "cm = np.corrcoef(train_data[columnss].values.T)\n",
        "sns.set(font_scale = 1.1)\n",
        "hm = sns.heatmap(cm, cbar = True, annot = True, square = True, cmap = \"RdPu\" ,  fmt = \".2f\", annot_kws = {\"size\": 10},\n",
        "                 yticklabels = columnss.values, xticklabels = columnss.values)\n",
        "plt.show()\n"
      ],
      "execution_count": 12,
      "outputs": [
        {
          "output_type": "display_data",
          "data": {
            "image/png": "[encoded data removed]",
            "text/plain": [
              "<Figure size 864x576 with 2 Axes>"
            ]
          },
          "metadata": {
            "tags": []
          }
        }
      ]
    },
    {
      "cell_type": "code",
      "metadata": {
        "colab": {
          "base_uri": "https://localhost:8080/",
          "height": 451
        },
        "id": "UR3tbXupZr_3",
        "outputId": "11930335-a791-45ed-cdaa-ab20810bc861"
      },
      "source": [
        " f, ax = plt.subplots(figsize = (10, 7))\n",
        "sns.scatterplot(x = train_data['ETOTALUSQ176N'], y = train_data[\"CSUSHPISA\"]);"
      ],
      "execution_count": 11,
      "outputs": [
        {
          "output_type": "display_data",
          "data": {
            "image/png": "[encoded data removed]",
            "text/plain": [
              "<Figure size 720x504 with 1 Axes>"
            ]
          },
          "metadata": {
            "tags": []
          }
        }
      ]
    },
    {
      "cell_type": "code",
      "metadata": {
        "colab": {
          "base_uri": "https://localhost:8080/",
          "height": 451
        },
        "id": "PoGO823Qc6xf",
        "outputId": "4423e5e5-8a66-4389-8948-88d9e099f10d"
      },
      "source": [
        "f, ax = plt.subplots(figsize = (10, 7))\n",
        "sns.scatterplot(x = train_data['GDP'], y = train_data[\"CSUSHPISA\"]);"
      ],
      "execution_count": 12,
      "outputs": [
        {
          "output_type": "display_data",
          "data": {
            "image/png": "[encoded data removed]",
            "text/plain": [
              "<Figure size 720x504 with 1 Axes>"
            ]
          },
          "metadata": {
            "tags": []
          }
        }
      ]
    },
    {
      "cell_type": "code",
      "metadata": {
        "colab": {
          "base_uri": "https://localhost:8080/",
          "height": 451
        },
        "id": "4gKy4Amzdevg",
        "outputId": "55a906ec-5f79-4a0f-90f8-a7c2a46a043e"
      },
      "source": [
        "f, ax = plt.subplots(figsize = (10, 7))\n",
        "sns.scatterplot(x = train_data['INDPRO'], y = train_data[\"CSUSHPISA\"]);"
      ],
      "execution_count": 13,
      "outputs": [
        {
          "output_type": "display_data",
          "data": {
            "image/png": "[encoded data removed]",
            "text/plain": [
              "<Figure size 720x504 with 1 Axes>"
            ]
          },
          "metadata": {
            "tags": []
          }
        }
      ]
    },
    {
      "cell_type": "code",
      "metadata": {
        "colab": {
          "base_uri": "https://localhost:8080/",
          "height": 451
        },
        "id": "B1_cUqAUdlQi",
        "outputId": "89651fbb-9381-45bc-ec75-4da650911b39"
      },
      "source": [
        "f, ax = plt.subplots(figsize = (10, 7))\n",
        "sns.scatterplot(x = train_data['MSACSR'], y = train_data[\"CSUSHPISA\"]);"
      ],
      "execution_count": 14,
      "outputs": [
        {
          "output_type": "display_data",
          "data": {
            "image/png": "[encoded data removed]",
            "text/plain": [
              "<Figure size 720x504 with 1 Axes>"
            ]
          },
          "metadata": {
            "tags": []
          }
        }
      ]
    },
    {
      "cell_type": "code",
      "metadata": {
        "colab": {
          "base_uri": "https://localhost:8080/"
        },
        "id": "1QfpQFFeeTYX",
        "outputId": "822c7df0-4ad5-4447-ed98-be2ef78663cd"
      },
      "source": [
        "actual_price_train = train_data['CSUSHPISA']\n",
        "print(actual_price_train[:5])\n",
        "train_data=train_data.drop(['CSUSHPISA'], axis=1)\n",
        "print(train_data.info())\n"
      ],
      "execution_count": 13,
      "outputs": [
        {
          "output_type": "stream",
          "text": [
            "49     143.193\n",
            "102    163.570\n",
            "88     181.602\n",
            "57     155.750\n",
            "39     130.884\n",
            "Name: CSUSHPISA, dtype: float64\n",
            "<class 'pandas.core.frame.DataFrame'>\n",
            "Int64Index: 201 entries, 49 to 53\n",
            "Data columns (total 16 columns):\n",
            " #   Column           Non-Null Count  Dtype  \n",
            "---  ------           --------------  -----  \n",
            " 0   CPALTT01USM657N  201 non-null    float64\n",
            " 1   UNEMPLOY         201 non-null    int64  \n",
            " 2   GDP              201 non-null    float64\n",
            " 3   MORTGAGE30US     201 non-null    float64\n",
            " 4   PCE              201 non-null    float64\n",
            " 5   CPIHOSSL         201 non-null    float64\n",
            " 6   POPTHM           201 non-null    float64\n",
            " 7   LNU02300000      201 non-null    float64\n",
            " 8   MSACSR           201 non-null    float64\n",
            " 9   INDPRO           201 non-null    float64\n",
            " 10  IPB54100S        201 non-null    float64\n",
            " 11  IPG333S          201 non-null    float64\n",
            " 12  GDI              201 non-null    float64\n",
            " 13  INTDSRUSM193N    201 non-null    float64\n",
            " 14  H8B1001NCBCMG    201 non-null    float64\n",
            " 15  ETOTALUSQ176N    201 non-null    float64\n",
            "dtypes: float64(15), int64(1)\n",
            "memory usage: 26.7 KB\n",
            "None\n"
          ],
          "name": "stdout"
        }
      ]
    },
    {
      "cell_type": "code",
      "metadata": {
        "colab": {
          "base_uri": "https://localhost:8080/"
        },
        "id": "bDTcDk4guGUS",
        "outputId": "d5d80adf-a32a-458f-8a90-b6f4817ff3a4"
      },
      "source": [
        "X_train, X_test, y_train, y_test = train_test_split(train_data, actual_price_train, test_size=0.2, random_state=42)\n",
        "print(X_train.head(3))\n",
        "print(X_test.head(3))\n",
        "print(y_train.head(3))\n",
        "print(y_test.head(3))"
      ],
      "execution_count": 14,
      "outputs": [
        {
          "output_type": "stream",
          "text": [
            "     CPALTT01USM657N  UNEMPLOY  ...  H8B1001NCBCMG  ETOTALUSQ176N\n",
            "131         0.171844     14348  ...           -4.4       132110.0\n",
            "58          0.052383      7932  ...           10.4       124611.0\n",
            "190        -0.211068      8000  ...            6.7       135868.0\n",
            "\n",
            "[3 rows x 16 columns]\n",
            "     CPALTT01USM657N  UNEMPLOY  ...  H8B1001NCBCMG  ETOTALUSQ176N\n",
            "175        -0.167051      9599  ...            5.8       134687.0\n",
            "72          0.762195      7064  ...            7.9       127072.0\n",
            "8           0.520833      5625  ...            5.2       116914.0\n",
            "\n",
            "[3 rows x 16 columns]\n",
            "131    142.064\n",
            "58     157.527\n",
            "190    175.762\n",
            "Name: CSUSHPISA, dtype: float64\n",
            "175    165.225\n",
            "72     182.321\n",
            "8      106.537\n",
            "Name: CSUSHPISA, dtype: float64\n"
          ],
          "name": "stdout"
        }
      ]
    },
    {
      "cell_type": "markdown",
      "metadata": {
        "id": "JCaw9EiTK63r"
      },
      "source": [
        "PCA-Principal Component Analysis \n",
        "\n",
        "\n",
        "> To reduce dimesnionality of the data.\n"
      ]
    },
    {
      "cell_type": "code",
      "metadata": {
        "colab": {
          "base_uri": "https://localhost:8080/",
          "height": 289
        },
        "id": "2wu5Ol6aghKj",
        "outputId": "5e888a20-077f-4d95-c124-a70e9a35d0dd"
      },
      "source": [
        "from sklearn.decomposition import PCA\n",
        "pca = PCA()\n",
        "print(np.all(np.isfinite(train_data)))\n",
        "pca_fit = pca.fit_transform(train_data)\n",
        "pca = PCA().fit(train_data)\n",
        "plt.plot(np.cumsum(pca.explained_variance_ratio_));"
      ],
      "execution_count": 17,
      "outputs": [
        {
          "output_type": "stream",
          "text": [
            "True\n"
          ],
          "name": "stdout"
        },
        {
          "output_type": "display_data",
          "data": {
            "image/png": "[encoded data removed]",
            "text/plain": [
              "<Figure size 432x288 with 1 Axes>"
            ]
          },
          "metadata": {
            "tags": []
          }
        }
      ]
    },
    {
      "cell_type": "code",
      "metadata": {
        "colab": {
          "base_uri": "https://localhost:8080/"
        },
        "id": "4WCliRBXGuj7",
        "outputId": "bc50f75e-6cd7-46d3-fb49-c08b8890c8b6"
      },
      "source": [
        "pca = PCA(n_components = 13)\n",
        "pca_fit = pca.fit_transform(train_data)\n",
        "pca_df = pd.DataFrame(data = pca_fit)\n",
        "print(pca_df.head())"
      ],
      "execution_count": 19,
      "outputs": [
        {
          "output_type": "stream",
          "text": [
            "             0            1            2   ...        10        11        12\n",
            "0  18510.272574  -544.037222    45.565196  ... -0.829882  0.773958 -0.364159\n",
            "1   3308.295354   -17.485559  1755.569659  ...  0.865287  1.919937  0.048828\n",
            "2   7056.629588 -2150.382516  2000.904515  ...  0.411037 -0.560225 -0.979361\n",
            "3  16001.938497  -710.494751   637.067661  ... -1.472035  0.632150  0.260112\n",
            "4  21236.042082   159.711267  -382.085667  ... -0.085144  0.636448 -0.530723\n",
            "\n",
            "[5 rows x 13 columns]\n"
          ],
          "name": "stdout"
        }
      ]
    },
    {
      "cell_type": "markdown",
      "metadata": {
        "id": "cBTM8V1_LJbB"
      },
      "source": [
        "***1) LightGBM***\n"
      ]
    },
    {
      "cell_type": "code",
      "metadata": {
        "id": "ykSRivuvu6HP"
      },
      "source": [
        "hyper_params = {\n",
        "    'task': 'train',\n",
        "    'boosting_type': 'rf',\n",
        "    'objective': 'regression',\n",
        "    'metric': ['rmse', 'l1'],\n",
        "    'learning_rate': 0.005,\n",
        "    'feature_fraction': 0.9,\n",
        "    'bagging_fraction': 0.7,\n",
        "    'bagging_freq': 10,\n",
        "    'verbose': 0,\n",
        "    \"max_depth\": 4,\n",
        "    \"num_leaves\": 31,  \n",
        "    \"max_bin\": 255,\n",
        "    \"num_iterations\": 10000,\n",
        "    \"n_estimators\": 3000\n",
        "}"
      ],
      "execution_count": 21,
      "outputs": []
    },
    {
      "cell_type": "code",
      "metadata": {
        "id": "fOv7mkeLu_lx"
      },
      "source": [
        "light_gbm = lgb.LGBMRegressor(**hyper_params)"
      ],
      "execution_count": 22,
      "outputs": []
    },
    {
      "cell_type": "code",
      "metadata": {
        "colab": {
          "base_uri": "https://localhost:8080/"
        },
        "id": "AWxcRBZ8vI2B",
        "outputId": "57472b4c-d9eb-42f2-ae96-4cacfb4e5629"
      },
      "source": [
        "light_gbm.fit( X_train, y_train,\n",
        "        eval_set=[(X_test, y_test)],\n",
        "        eval_metric='rmse',\n",
        "        early_stopping_rounds=1000)"
      ],
      "execution_count": 23,
      "outputs": [
        {
          "output_type": "stream",
          "text": [
            "[1]\tvalid_0's l1: 10.2939\tvalid_0's rmse: 12.388\n",
            "Training until validation scores don't improve for 1000 rounds.\n",
            "[2]\tvalid_0's l1: 9.57655\tvalid_0's rmse: 11.6173\n",
            "[3]\tvalid_0's l1: 9.46036\tvalid_0's rmse: 11.4859\n",
            "[4]\tvalid_0's l1: 9.57655\tvalid_0's rmse: 11.6173\n",
            "[5]\tvalid_0's l1: 9.35155\tvalid_0's rmse: 11.3351\n",
            "[6]\tvalid_0's l1: 9.32003\tvalid_0's rmse: 11.3101\n",
            "[7]\tvalid_0's l1: 9.31761\tvalid_0's rmse: 11.3021\n",
            "[8]\tvalid_0's l1: 9.31579\tvalid_0's rmse: 11.3015\n",
            "[9]\tvalid_0's l1: 9.31437\tvalid_0's rmse: 11.3042\n",
            "[10]\tvalid_0's l1: 9.22904\tvalid_0's rmse: 11.2013\n",
            "[11]\tvalid_0's l1: 9.23204\tvalid_0's rmse: 11.2496\n",
            "[12]\tvalid_0's l1: 9.23454\tvalid_0's rmse: 11.2986\n",
            "[13]\tvalid_0's l1: 9.23666\tvalid_0's rmse: 11.3463\n",
            "[14]\tvalid_0's l1: 9.20717\tvalid_0's rmse: 11.3248\n",
            "[15]\tvalid_0's l1: 9.21083\tvalid_0's rmse: 11.3691\n",
            "[16]\tvalid_0's l1: 9.18663\tvalid_0's rmse: 11.3555\n",
            "[17]\tvalid_0's l1: 9.16529\tvalid_0's rmse: 11.3482\n",
            "[18]\tvalid_0's l1: 9.17066\tvalid_0's rmse: 11.3859\n",
            "[19]\tvalid_0's l1: 9.17547\tvalid_0's rmse: 11.4214\n",
            "[20]\tvalid_0's l1: 9.14628\tvalid_0's rmse: 11.4463\n",
            "[21]\tvalid_0's l1: 9.10818\tvalid_0's rmse: 11.4785\n",
            "[22]\tvalid_0's l1: 9.07355\tvalid_0's rmse: 11.5168\n",
            "[23]\tvalid_0's l1: 9.04192\tvalid_0's rmse: 11.5592\n",
            "[24]\tvalid_0's l1: 9.05563\tvalid_0's rmse: 11.6043\n",
            "[25]\tvalid_0's l1: 9.10021\tvalid_0's rmse: 11.6509\n",
            "[26]\tvalid_0's l1: 9.14136\tvalid_0's rmse: 11.6982\n",
            "[27]\tvalid_0's l1: 9.19213\tvalid_0's rmse: 11.7458\n",
            "[28]\tvalid_0's l1: 9.21338\tvalid_0's rmse: 11.7863\n",
            "[29]\tvalid_0's l1: 9.25989\tvalid_0's rmse: 11.8329\n",
            "[30]\tvalid_0's l1: 9.30329\tvalid_0's rmse: 11.8787\n",
            "[31]\tvalid_0's l1: 9.27244\tvalid_0's rmse: 11.8401\n",
            "[32]\tvalid_0's l1: 9.24351\tvalid_0's rmse: 11.8052\n",
            "[33]\tvalid_0's l1: 9.21634\tvalid_0's rmse: 11.7734\n",
            "[34]\tvalid_0's l1: 9.16454\tvalid_0's rmse: 11.7219\n",
            "[35]\tvalid_0's l1: 9.14118\tvalid_0's rmse: 11.696\n",
            "[36]\tvalid_0's l1: 9.10962\tvalid_0's rmse: 11.6697\n",
            "[37]\tvalid_0's l1: 9.08316\tvalid_0's rmse: 11.6464\n",
            "[38]\tvalid_0's l1: 9.07264\tvalid_0's rmse: 11.6267\n",
            "[39]\tvalid_0's l1: 9.03233\tvalid_0's rmse: 11.5884\n",
            "[40]\tvalid_0's l1: 9.02361\tvalid_0's rmse: 11.572\n",
            "[41]\tvalid_0's l1: 9.00089\tvalid_0's rmse: 11.5472\n",
            "[42]\tvalid_0's l1: 8.97926\tvalid_0's rmse: 11.5242\n",
            "[43]\tvalid_0's l1: 8.95863\tvalid_0's rmse: 11.5027\n",
            "[44]\tvalid_0's l1: 8.93894\tvalid_0's rmse: 11.4827\n",
            "[45]\tvalid_0's l1: 8.92012\tvalid_0's rmse: 11.464\n",
            "[46]\tvalid_0's l1: 8.90381\tvalid_0's rmse: 11.4465\n",
            "[47]\tvalid_0's l1: 8.8975\tvalid_0's rmse: 11.43\n",
            "[48]\tvalid_0's l1: 8.89145\tvalid_0's rmse: 11.4146\n",
            "[49]\tvalid_0's l1: 8.87149\tvalid_0's rmse: 11.3989\n",
            "[50]\tvalid_0's l1: 8.8662\tvalid_0's rmse: 11.3852\n",
            "[51]\tvalid_0's l1: 8.86345\tvalid_0's rmse: 11.383\n",
            "[52]\tvalid_0's l1: 8.84486\tvalid_0's rmse: 11.381\n",
            "[53]\tvalid_0's l1: 8.84261\tvalid_0's rmse: 11.3808\n",
            "[54]\tvalid_0's l1: 8.85308\tvalid_0's rmse: 11.3816\n",
            "[55]\tvalid_0's l1: 8.86925\tvalid_0's rmse: 11.3832\n",
            "[56]\tvalid_0's l1: 8.88484\tvalid_0's rmse: 11.3856\n",
            "[57]\tvalid_0's l1: 8.89989\tvalid_0's rmse: 11.3886\n",
            "[58]\tvalid_0's l1: 8.91441\tvalid_0's rmse: 11.3922\n",
            "[59]\tvalid_0's l1: 8.92844\tvalid_0's rmse: 11.3963\n",
            "[60]\tvalid_0's l1: 8.94201\tvalid_0's rmse: 11.4009\n",
            "[61]\tvalid_0's l1: 8.94495\tvalid_0's rmse: 11.3924\n",
            "[62]\tvalid_0's l1: 8.9478\tvalid_0's rmse: 11.3848\n",
            "[63]\tvalid_0's l1: 8.93191\tvalid_0's rmse: 11.3614\n",
            "[64]\tvalid_0's l1: 8.93487\tvalid_0's rmse: 11.3549\n",
            "[65]\tvalid_0's l1: 8.93774\tvalid_0's rmse: 11.3492\n",
            "[66]\tvalid_0's l1: 8.92897\tvalid_0's rmse: 11.3425\n",
            "[67]\tvalid_0's l1: 8.93184\tvalid_0's rmse: 11.3381\n",
            "[68]\tvalid_0's l1: 8.93463\tvalid_0's rmse: 11.3343\n",
            "[69]\tvalid_0's l1: 8.92629\tvalid_0's rmse: 11.3297\n",
            "[70]\tvalid_0's l1: 8.92908\tvalid_0's rmse: 11.3269\n",
            "[71]\tvalid_0's l1: 8.89642\tvalid_0's rmse: 11.3062\n",
            "[72]\tvalid_0's l1: 8.86466\tvalid_0's rmse: 11.287\n",
            "[73]\tvalid_0's l1: 8.83094\tvalid_0's rmse: 11.2704\n",
            "[74]\tvalid_0's l1: 8.80232\tvalid_0's rmse: 11.2537\n",
            "[75]\tvalid_0's l1: 8.7844\tvalid_0's rmse: 11.2395\n",
            "[76]\tvalid_0's l1: 8.76968\tvalid_0's rmse: 11.2249\n",
            "[77]\tvalid_0's l1: 8.75265\tvalid_0's rmse: 11.2128\n",
            "[78]\tvalid_0's l1: 8.73872\tvalid_0's rmse: 11.2001\n",
            "[79]\tvalid_0's l1: 8.72514\tvalid_0's rmse: 11.1884\n",
            "[80]\tvalid_0's l1: 8.71637\tvalid_0's rmse: 11.1776\n",
            "[81]\tvalid_0's l1: 8.70307\tvalid_0's rmse: 11.1691\n",
            "[82]\tvalid_0's l1: 8.69009\tvalid_0's rmse: 11.1612\n",
            "[83]\tvalid_0's l1: 8.67743\tvalid_0's rmse: 11.1538\n",
            "[84]\tvalid_0's l1: 8.66613\tvalid_0's rmse: 11.147\n",
            "[85]\tvalid_0's l1: 8.65205\tvalid_0's rmse: 11.1363\n",
            "[86]\tvalid_0's l1: 8.64156\tvalid_0's rmse: 11.1301\n",
            "[87]\tvalid_0's l1: 8.64021\tvalid_0's rmse: 11.1254\n",
            "[88]\tvalid_0's l1: 8.63011\tvalid_0's rmse: 11.1201\n",
            "[89]\tvalid_0's l1: 8.62022\tvalid_0's rmse: 11.1151\n",
            "[90]\tvalid_0's l1: 8.61056\tvalid_0's rmse: 11.1106\n",
            "[91]\tvalid_0's l1: 8.62897\tvalid_0's rmse: 11.1497\n",
            "[92]\tvalid_0's l1: 8.64698\tvalid_0's rmse: 11.1896\n",
            "[93]\tvalid_0's l1: 8.6646\tvalid_0's rmse: 11.2301\n",
            "[94]\tvalid_0's l1: 8.68185\tvalid_0's rmse: 11.2713\n",
            "[95]\tvalid_0's l1: 8.69955\tvalid_0's rmse: 11.3129\n",
            "[96]\tvalid_0's l1: 8.72165\tvalid_0's rmse: 11.355\n",
            "[97]\tvalid_0's l1: 8.74893\tvalid_0's rmse: 11.3974\n",
            "[98]\tvalid_0's l1: 8.77566\tvalid_0's rmse: 11.4402\n",
            "[99]\tvalid_0's l1: 8.80185\tvalid_0's rmse: 11.4832\n",
            "[100]\tvalid_0's l1: 8.81722\tvalid_0's rmse: 11.5258\n",
            "[101]\tvalid_0's l1: 8.85069\tvalid_0's rmse: 11.5837\n",
            "[102]\tvalid_0's l1: 8.8835\tvalid_0's rmse: 11.6412\n",
            "[103]\tvalid_0's l1: 8.86154\tvalid_0's rmse: 11.625\n",
            "[104]\tvalid_0's l1: 8.89361\tvalid_0's rmse: 11.6818\n",
            "[105]\tvalid_0's l1: 8.87198\tvalid_0's rmse: 11.6658\n",
            "[106]\tvalid_0's l1: 8.8957\tvalid_0's rmse: 11.7217\n",
            "[107]\tvalid_0's l1: 8.88148\tvalid_0's rmse: 11.706\n",
            "[108]\tvalid_0's l1: 8.9075\tvalid_0's rmse: 11.7612\n",
            "[109]\tvalid_0's l1: 8.93542\tvalid_0's rmse: 11.8161\n",
            "[110]\tvalid_0's l1: 8.96599\tvalid_0's rmse: 11.8706\n",
            "[111]\tvalid_0's l1: 8.95431\tvalid_0's rmse: 11.8502\n",
            "[112]\tvalid_0's l1: 8.94285\tvalid_0's rmse: 11.8302\n",
            "[113]\tvalid_0's l1: 8.93158\tvalid_0's rmse: 11.8106\n",
            "[114]\tvalid_0's l1: 8.92051\tvalid_0's rmse: 11.7914\n",
            "[115]\tvalid_0's l1: 8.90963\tvalid_0's rmse: 11.7727\n",
            "[116]\tvalid_0's l1: 8.90416\tvalid_0's rmse: 11.7544\n",
            "[117]\tvalid_0's l1: 8.89361\tvalid_0's rmse: 11.7364\n",
            "[118]\tvalid_0's l1: 8.88324\tvalid_0's rmse: 11.7188\n",
            "[119]\tvalid_0's l1: 8.87304\tvalid_0's rmse: 11.7016\n",
            "[120]\tvalid_0's l1: 8.86301\tvalid_0's rmse: 11.6847\n",
            "[121]\tvalid_0's l1: 8.85882\tvalid_0's rmse: 11.6784\n",
            "[122]\tvalid_0's l1: 8.85469\tvalid_0's rmse: 11.6724\n",
            "[123]\tvalid_0's l1: 8.85178\tvalid_0's rmse: 11.6667\n",
            "[124]\tvalid_0's l1: 8.83828\tvalid_0's rmse: 11.6559\n",
            "[125]\tvalid_0's l1: 8.82543\tvalid_0's rmse: 11.6453\n",
            "[126]\tvalid_0's l1: 8.82355\tvalid_0's rmse: 11.6405\n",
            "[127]\tvalid_0's l1: 8.82367\tvalid_0's rmse: 11.6381\n",
            "[128]\tvalid_0's l1: 8.81089\tvalid_0's rmse: 11.6283\n",
            "[129]\tvalid_0's l1: 8.80951\tvalid_0's rmse: 11.6243\n",
            "[130]\tvalid_0's l1: 8.80856\tvalid_0's rmse: 11.6205\n",
            "[131]\tvalid_0's l1: 8.81583\tvalid_0's rmse: 11.6205\n",
            "[132]\tvalid_0's l1: 8.8073\tvalid_0's rmse: 11.6102\n",
            "[133]\tvalid_0's l1: 8.81439\tvalid_0's rmse: 11.6104\n",
            "[134]\tvalid_0's l1: 8.82138\tvalid_0's rmse: 11.6106\n",
            "[135]\tvalid_0's l1: 8.81345\tvalid_0's rmse: 11.6009\n",
            "[136]\tvalid_0's l1: 8.82034\tvalid_0's rmse: 11.6013\n",
            "[137]\tvalid_0's l1: 8.82713\tvalid_0's rmse: 11.6018\n",
            "[138]\tvalid_0's l1: 8.83382\tvalid_0's rmse: 11.6024\n",
            "[139]\tvalid_0's l1: 8.84042\tvalid_0's rmse: 11.603\n",
            "[140]\tvalid_0's l1: 8.84692\tvalid_0's rmse: 11.6037\n",
            "[141]\tvalid_0's l1: 8.85187\tvalid_0's rmse: 11.6087\n",
            "[142]\tvalid_0's l1: 8.85676\tvalid_0's rmse: 11.6136\n",
            "[143]\tvalid_0's l1: 8.85175\tvalid_0's rmse: 11.6098\n",
            "[144]\tvalid_0's l1: 8.86178\tvalid_0's rmse: 11.6155\n",
            "[145]\tvalid_0's l1: 8.86649\tvalid_0's rmse: 11.6205\n",
            "[146]\tvalid_0's l1: 8.87114\tvalid_0's rmse: 11.6255\n",
            "[147]\tvalid_0's l1: 8.88083\tvalid_0's rmse: 11.6313\n",
            "[148]\tvalid_0's l1: 8.89039\tvalid_0's rmse: 11.6371\n",
            "[149]\tvalid_0's l1: 8.89478\tvalid_0's rmse: 11.6422\n",
            "[150]\tvalid_0's l1: 8.89912\tvalid_0's rmse: 11.6473\n",
            "[151]\tvalid_0's l1: 8.90207\tvalid_0's rmse: 11.6408\n",
            "[152]\tvalid_0's l1: 8.90077\tvalid_0's rmse: 11.6339\n",
            "[153]\tvalid_0's l1: 8.89949\tvalid_0's rmse: 11.6271\n",
            "[154]\tvalid_0's l1: 8.89823\tvalid_0's rmse: 11.6205\n",
            "[155]\tvalid_0's l1: 8.89348\tvalid_0's rmse: 11.6137\n",
            "[156]\tvalid_0's l1: 8.88879\tvalid_0's rmse: 11.6072\n",
            "[157]\tvalid_0's l1: 8.88762\tvalid_0's rmse: 11.601\n",
            "[158]\tvalid_0's l1: 8.88647\tvalid_0's rmse: 11.5949\n",
            "[159]\tvalid_0's l1: 8.88191\tvalid_0's rmse: 11.5889\n",
            "[160]\tvalid_0's l1: 8.87741\tvalid_0's rmse: 11.583\n",
            "[161]\tvalid_0's l1: 8.87746\tvalid_0's rmse: 11.5772\n",
            "[162]\tvalid_0's l1: 8.87351\tvalid_0's rmse: 11.5711\n",
            "[163]\tvalid_0's l1: 8.86961\tvalid_0's rmse: 11.5651\n",
            "[164]\tvalid_0's l1: 8.86575\tvalid_0's rmse: 11.5592\n",
            "[165]\tvalid_0's l1: 8.85954\tvalid_0's rmse: 11.5535\n",
            "[166]\tvalid_0's l1: 8.85579\tvalid_0's rmse: 11.5479\n",
            "[167]\tvalid_0's l1: 8.85209\tvalid_0's rmse: 11.5424\n",
            "[168]\tvalid_0's l1: 8.84843\tvalid_0's rmse: 11.5369\n",
            "[169]\tvalid_0's l1: 8.84481\tvalid_0's rmse: 11.5316\n",
            "[170]\tvalid_0's l1: 8.84791\tvalid_0's rmse: 11.533\n",
            "[171]\tvalid_0's l1: 8.84541\tvalid_0's rmse: 11.5264\n",
            "[172]\tvalid_0's l1: 8.84294\tvalid_0's rmse: 11.5199\n",
            "[173]\tvalid_0's l1: 8.84049\tvalid_0's rmse: 11.5136\n",
            "[174]\tvalid_0's l1: 8.83807\tvalid_0's rmse: 11.5074\n",
            "[175]\tvalid_0's l1: 8.83568\tvalid_0's rmse: 11.5014\n",
            "[176]\tvalid_0's l1: 8.83332\tvalid_0's rmse: 11.4955\n",
            "[177]\tvalid_0's l1: 8.83098\tvalid_0's rmse: 11.4898\n",
            "[178]\tvalid_0's l1: 8.82867\tvalid_0's rmse: 11.4843\n",
            "[179]\tvalid_0's l1: 8.82639\tvalid_0's rmse: 11.4788\n",
            "[180]\tvalid_0's l1: 8.82413\tvalid_0's rmse: 11.4735\n",
            "[181]\tvalid_0's l1: 8.82555\tvalid_0's rmse: 11.4751\n",
            "[182]\tvalid_0's l1: 8.82695\tvalid_0's rmse: 11.4768\n",
            "[183]\tvalid_0's l1: 8.82834\tvalid_0's rmse: 11.4785\n",
            "[184]\tvalid_0's l1: 8.8199\tvalid_0's rmse: 11.4711\n",
            "[185]\tvalid_0's l1: 8.82131\tvalid_0's rmse: 11.4729\n",
            "[186]\tvalid_0's l1: 8.82271\tvalid_0's rmse: 11.4746\n",
            "[187]\tvalid_0's l1: 8.82409\tvalid_0's rmse: 11.4765\n",
            "[188]\tvalid_0's l1: 8.82545\tvalid_0's rmse: 11.4783\n",
            "[189]\tvalid_0's l1: 8.8268\tvalid_0's rmse: 11.4802\n",
            "[190]\tvalid_0's l1: 8.82009\tvalid_0's rmse: 11.473\n",
            "[191]\tvalid_0's l1: 8.83085\tvalid_0's rmse: 11.4968\n",
            "[192]\tvalid_0's l1: 8.84151\tvalid_0's rmse: 11.5206\n",
            "[193]\tvalid_0's l1: 8.85246\tvalid_0's rmse: 11.5444\n",
            "[194]\tvalid_0's l1: 8.86249\tvalid_0's rmse: 11.5682\n",
            "[195]\tvalid_0's l1: 8.87242\tvalid_0's rmse: 11.592\n",
            "[196]\tvalid_0's l1: 8.88224\tvalid_0's rmse: 11.6157\n",
            "[197]\tvalid_0's l1: 8.88367\tvalid_0's rmse: 11.6384\n",
            "[198]\tvalid_0's l1: 8.8963\tvalid_0's rmse: 11.662\n",
            "[199]\tvalid_0's l1: 8.90586\tvalid_0's rmse: 11.6856\n",
            "[200]\tvalid_0's l1: 8.91532\tvalid_0's rmse: 11.7092\n",
            "[201]\tvalid_0's l1: 8.9265\tvalid_0's rmse: 11.7378\n",
            "[202]\tvalid_0's l1: 8.93757\tvalid_0's rmse: 11.7664\n",
            "[203]\tvalid_0's l1: 8.94852\tvalid_0's rmse: 11.7949\n",
            "[204]\tvalid_0's l1: 8.95955\tvalid_0's rmse: 11.8233\n",
            "[205]\tvalid_0's l1: 8.97189\tvalid_0's rmse: 11.8517\n",
            "[206]\tvalid_0's l1: 8.98411\tvalid_0's rmse: 11.8799\n",
            "[207]\tvalid_0's l1: 8.99621\tvalid_0's rmse: 11.9081\n",
            "[208]\tvalid_0's l1: 9.0082\tvalid_0's rmse: 11.9361\n",
            "[209]\tvalid_0's l1: 9.02007\tvalid_0's rmse: 11.9641\n",
            "[210]\tvalid_0's l1: 9.03182\tvalid_0's rmse: 11.992\n",
            "[211]\tvalid_0's l1: 9.03659\tvalid_0's rmse: 12.0114\n",
            "[212]\tvalid_0's l1: 9.03931\tvalid_0's rmse: 12.0308\n",
            "[213]\tvalid_0's l1: 9.04199\tvalid_0's rmse: 12.0501\n",
            "[214]\tvalid_0's l1: 9.03353\tvalid_0's rmse: 12.0412\n",
            "[215]\tvalid_0's l1: 9.03821\tvalid_0's rmse: 12.0605\n",
            "[216]\tvalid_0's l1: 9.04596\tvalid_0's rmse: 12.0802\n",
            "[217]\tvalid_0's l1: 9.05053\tvalid_0's rmse: 12.0995\n",
            "[218]\tvalid_0's l1: 9.05816\tvalid_0's rmse: 12.1191\n",
            "[219]\tvalid_0's l1: 9.06572\tvalid_0's rmse: 12.1386\n",
            "[220]\tvalid_0's l1: 9.07014\tvalid_0's rmse: 12.1579\n",
            "[221]\tvalid_0's l1: 9.06087\tvalid_0's rmse: 12.1517\n",
            "[222]\tvalid_0's l1: 9.05169\tvalid_0's rmse: 12.1457\n",
            "[223]\tvalid_0's l1: 9.04411\tvalid_0's rmse: 12.1398\n",
            "[224]\tvalid_0's l1: 9.03942\tvalid_0's rmse: 12.134\n",
            "[225]\tvalid_0's l1: 9.03477\tvalid_0's rmse: 12.1284\n",
            "[226]\tvalid_0's l1: 9.03017\tvalid_0's rmse: 12.1229\n",
            "[227]\tvalid_0's l1: 9.0256\tvalid_0's rmse: 12.1175\n",
            "[228]\tvalid_0's l1: 9.02108\tvalid_0's rmse: 12.1122\n",
            "[229]\tvalid_0's l1: 9.0192\tvalid_0's rmse: 12.1077\n",
            "[230]\tvalid_0's l1: 9.01474\tvalid_0's rmse: 12.1026\n",
            "[231]\tvalid_0's l1: 9.0088\tvalid_0's rmse: 12.0927\n",
            "[232]\tvalid_0's l1: 9.00978\tvalid_0's rmse: 12.0857\n",
            "[233]\tvalid_0's l1: 9.00772\tvalid_0's rmse: 12.0786\n",
            "[234]\tvalid_0's l1: 9.00568\tvalid_0's rmse: 12.0716\n",
            "[235]\tvalid_0's l1: 9.00365\tvalid_0's rmse: 12.0647\n",
            "[236]\tvalid_0's l1: 8.99788\tvalid_0's rmse: 12.0552\n",
            "[237]\tvalid_0's l1: 8.99591\tvalid_0's rmse: 12.0484\n",
            "[238]\tvalid_0's l1: 8.99394\tvalid_0's rmse: 12.0418\n",
            "[239]\tvalid_0's l1: 8.992\tvalid_0's rmse: 12.0352\n",
            "[240]\tvalid_0's l1: 8.99007\tvalid_0's rmse: 12.0287\n",
            "[241]\tvalid_0's l1: 8.98803\tvalid_0's rmse: 12.0202\n",
            "[242]\tvalid_0's l1: 8.986\tvalid_0's rmse: 12.0119\n",
            "[243]\tvalid_0's l1: 8.98132\tvalid_0's rmse: 12.0035\n",
            "[244]\tvalid_0's l1: 8.97667\tvalid_0's rmse: 11.9952\n",
            "[245]\tvalid_0's l1: 8.97207\tvalid_0's rmse: 11.9869\n",
            "[246]\tvalid_0's l1: 8.96619\tvalid_0's rmse: 11.9791\n",
            "[247]\tvalid_0's l1: 8.96429\tvalid_0's rmse: 11.9713\n",
            "[248]\tvalid_0's l1: 8.95979\tvalid_0's rmse: 11.9633\n",
            "[249]\tvalid_0's l1: 8.95533\tvalid_0's rmse: 11.9554\n",
            "[250]\tvalid_0's l1: 8.9509\tvalid_0's rmse: 11.9476\n",
            "[251]\tvalid_0's l1: 8.94909\tvalid_0's rmse: 11.9414\n",
            "[252]\tvalid_0's l1: 8.94729\tvalid_0's rmse: 11.9353\n",
            "[253]\tvalid_0's l1: 8.94374\tvalid_0's rmse: 11.9291\n",
            "[254]\tvalid_0's l1: 8.94198\tvalid_0's rmse: 11.9231\n",
            "[255]\tvalid_0's l1: 8.94023\tvalid_0's rmse: 11.9171\n",
            "[256]\tvalid_0's l1: 8.93849\tvalid_0's rmse: 11.9112\n",
            "[257]\tvalid_0's l1: 8.93677\tvalid_0's rmse: 11.9054\n",
            "[258]\tvalid_0's l1: 8.93506\tvalid_0's rmse: 11.8996\n",
            "[259]\tvalid_0's l1: 8.9284\tvalid_0's rmse: 11.8935\n",
            "[260]\tvalid_0's l1: 8.92674\tvalid_0's rmse: 11.8878\n",
            "[261]\tvalid_0's l1: 8.92514\tvalid_0's rmse: 11.8824\n",
            "[262]\tvalid_0's l1: 8.91801\tvalid_0's rmse: 11.8746\n",
            "[263]\tvalid_0's l1: 8.91941\tvalid_0's rmse: 11.8695\n",
            "[264]\tvalid_0's l1: 8.91786\tvalid_0's rmse: 11.8643\n",
            "[265]\tvalid_0's l1: 8.91632\tvalid_0's rmse: 11.8592\n",
            "[266]\tvalid_0's l1: 8.91479\tvalid_0's rmse: 11.8542\n",
            "[267]\tvalid_0's l1: 8.91327\tvalid_0's rmse: 11.8492\n",
            "[268]\tvalid_0's l1: 8.91177\tvalid_0's rmse: 11.8443\n",
            "[269]\tvalid_0's l1: 8.91027\tvalid_0's rmse: 11.8395\n",
            "[270]\tvalid_0's l1: 8.90879\tvalid_0's rmse: 11.8347\n",
            "[271]\tvalid_0's l1: 8.90298\tvalid_0's rmse: 11.8256\n",
            "[272]\tvalid_0's l1: 8.89859\tvalid_0's rmse: 11.8175\n",
            "[273]\tvalid_0's l1: 8.89423\tvalid_0's rmse: 11.8094\n",
            "[274]\tvalid_0's l1: 8.88853\tvalid_0's rmse: 11.8007\n",
            "[275]\tvalid_0's l1: 8.88287\tvalid_0's rmse: 11.792\n",
            "[276]\tvalid_0's l1: 8.87726\tvalid_0's rmse: 11.7835\n",
            "[277]\tvalid_0's l1: 8.87168\tvalid_0's rmse: 11.775\n",
            "[278]\tvalid_0's l1: 8.86614\tvalid_0's rmse: 11.7667\n",
            "[279]\tvalid_0's l1: 8.86065\tvalid_0's rmse: 11.7584\n",
            "[280]\tvalid_0's l1: 8.85519\tvalid_0's rmse: 11.7503\n",
            "[281]\tvalid_0's l1: 8.85549\tvalid_0's rmse: 11.7477\n",
            "[282]\tvalid_0's l1: 8.85578\tvalid_0's rmse: 11.7451\n",
            "[283]\tvalid_0's l1: 8.85607\tvalid_0's rmse: 11.7425\n",
            "[284]\tvalid_0's l1: 8.85636\tvalid_0's rmse: 11.74\n",
            "[285]\tvalid_0's l1: 8.85505\tvalid_0's rmse: 11.7373\n",
            "[286]\tvalid_0's l1: 8.85534\tvalid_0's rmse: 11.7348\n",
            "[287]\tvalid_0's l1: 8.85562\tvalid_0's rmse: 11.7324\n",
            "[288]\tvalid_0's l1: 8.85591\tvalid_0's rmse: 11.7299\n",
            "[289]\tvalid_0's l1: 8.85046\tvalid_0's rmse: 11.7267\n",
            "[290]\tvalid_0's l1: 8.85076\tvalid_0's rmse: 11.7243\n",
            "[291]\tvalid_0's l1: 8.85946\tvalid_0's rmse: 11.7453\n",
            "[292]\tvalid_0's l1: 8.8681\tvalid_0's rmse: 11.7662\n",
            "[293]\tvalid_0's l1: 8.87668\tvalid_0's rmse: 11.787\n",
            "[294]\tvalid_0's l1: 8.88521\tvalid_0's rmse: 11.8078\n",
            "[295]\tvalid_0's l1: 8.89367\tvalid_0's rmse: 11.8285\n",
            "[296]\tvalid_0's l1: 8.90208\tvalid_0's rmse: 11.8491\n",
            "[297]\tvalid_0's l1: 8.90912\tvalid_0's rmse: 11.8692\n",
            "[298]\tvalid_0's l1: 8.90747\tvalid_0's rmse: 11.8669\n",
            "[299]\tvalid_0's l1: 8.91445\tvalid_0's rmse: 11.8869\n",
            "[300]\tvalid_0's l1: 8.92267\tvalid_0's rmse: 11.9072\n",
            "[301]\tvalid_0's l1: 8.92825\tvalid_0's rmse: 11.9084\n",
            "[302]\tvalid_0's l1: 8.93135\tvalid_0's rmse: 11.9094\n",
            "[303]\tvalid_0's l1: 8.93444\tvalid_0's rmse: 11.9104\n",
            "[304]\tvalid_0's l1: 8.93751\tvalid_0's rmse: 11.9114\n",
            "[305]\tvalid_0's l1: 8.94296\tvalid_0's rmse: 11.9127\n",
            "[306]\tvalid_0's l1: 8.94598\tvalid_0's rmse: 11.9138\n",
            "[307]\tvalid_0's l1: 8.94898\tvalid_0's rmse: 11.9148\n",
            "[308]\tvalid_0's l1: 8.95196\tvalid_0's rmse: 11.916\n",
            "[309]\tvalid_0's l1: 8.95492\tvalid_0's rmse: 11.9171\n",
            "[310]\tvalid_0's l1: 8.96023\tvalid_0's rmse: 11.9185\n",
            "[311]\tvalid_0's l1: 8.96985\tvalid_0's rmse: 11.9378\n",
            "[312]\tvalid_0's l1: 8.97941\tvalid_0's rmse: 11.9571\n",
            "[313]\tvalid_0's l1: 8.98891\tvalid_0's rmse: 11.9763\n",
            "[314]\tvalid_0's l1: 8.9859\tvalid_0's rmse: 11.9754\n",
            "[315]\tvalid_0's l1: 8.99532\tvalid_0's rmse: 11.9944\n",
            "[316]\tvalid_0's l1: 9.00637\tvalid_0's rmse: 12.0136\n",
            "[317]\tvalid_0's l1: 9.0144\tvalid_0's rmse: 12.0329\n",
            "[318]\tvalid_0's l1: 9.02364\tvalid_0's rmse: 12.0518\n",
            "[319]\tvalid_0's l1: 9.03282\tvalid_0's rmse: 12.0706\n",
            "[320]\tvalid_0's l1: 9.04361\tvalid_0's rmse: 12.0896\n",
            "[321]\tvalid_0's l1: 9.04852\tvalid_0's rmse: 12.1039\n",
            "[322]\tvalid_0's l1: 9.05508\tvalid_0's rmse: 12.1184\n",
            "[323]\tvalid_0's l1: 9.05993\tvalid_0's rmse: 12.1327\n",
            "[324]\tvalid_0's l1: 9.06475\tvalid_0's rmse: 12.147\n",
            "[325]\tvalid_0's l1: 9.06087\tvalid_0's rmse: 12.1407\n",
            "[326]\tvalid_0's l1: 9.05946\tvalid_0's rmse: 12.1537\n",
            "[327]\tvalid_0's l1: 9.05562\tvalid_0's rmse: 12.1475\n",
            "[328]\tvalid_0's l1: 9.06039\tvalid_0's rmse: 12.1616\n",
            "[329]\tvalid_0's l1: 9.059\tvalid_0's rmse: 12.1746\n",
            "[330]\tvalid_0's l1: 9.06373\tvalid_0's rmse: 12.1887\n",
            "[331]\tvalid_0's l1: 9.05699\tvalid_0's rmse: 12.1799\n",
            "[332]\tvalid_0's l1: 9.0503\tvalid_0's rmse: 12.1712\n",
            "[333]\tvalid_0's l1: 9.04462\tvalid_0's rmse: 12.1627\n",
            "[334]\tvalid_0's l1: 9.038\tvalid_0's rmse: 12.1541\n",
            "[335]\tvalid_0's l1: 9.03238\tvalid_0's rmse: 12.1457\n",
            "[336]\tvalid_0's l1: 9.0268\tvalid_0's rmse: 12.1374\n",
            "[337]\tvalid_0's l1: 9.02164\tvalid_0's rmse: 12.1292\n",
            "[338]\tvalid_0's l1: 9.01517\tvalid_0's rmse: 12.1209\n",
            "[339]\tvalid_0's l1: 9.01223\tvalid_0's rmse: 12.1155\n",
            "[340]\tvalid_0's l1: 9.00583\tvalid_0's rmse: 12.1073\n",
            "[341]\tvalid_0's l1: 9.00614\tvalid_0's rmse: 12.1052\n",
            "[342]\tvalid_0's l1: 9.00644\tvalid_0's rmse: 12.1031\n",
            "[343]\tvalid_0's l1: 9.00273\tvalid_0's rmse: 12.0991\n",
            "[344]\tvalid_0's l1: 9.00305\tvalid_0's rmse: 12.097\n",
            "[345]\tvalid_0's l1: 9.00565\tvalid_0's rmse: 12.0952\n",
            "[346]\tvalid_0's l1: 9.00595\tvalid_0's rmse: 12.0933\n",
            "[347]\tvalid_0's l1: 9.00626\tvalid_0's rmse: 12.0914\n",
            "[348]\tvalid_0's l1: 9.00656\tvalid_0's rmse: 12.0895\n",
            "[349]\tvalid_0's l1: 9.00686\tvalid_0's rmse: 12.0876\n",
            "[350]\tvalid_0's l1: 9.00715\tvalid_0's rmse: 12.0858\n",
            "[351]\tvalid_0's l1: 9.00644\tvalid_0's rmse: 12.0817\n",
            "[352]\tvalid_0's l1: 9.00573\tvalid_0's rmse: 12.0777\n",
            "[353]\tvalid_0's l1: 9.00162\tvalid_0's rmse: 12.0715\n",
            "[354]\tvalid_0's l1: 9.00093\tvalid_0's rmse: 12.0675\n",
            "[355]\tvalid_0's l1: 8.99685\tvalid_0's rmse: 12.0615\n",
            "[356]\tvalid_0's l1: 8.99617\tvalid_0's rmse: 12.0575\n",
            "[357]\tvalid_0's l1: 8.99263\tvalid_0's rmse: 12.0534\n",
            "[358]\tvalid_0's l1: 8.99197\tvalid_0's rmse: 12.0495\n",
            "[359]\tvalid_0's l1: 8.99132\tvalid_0's rmse: 12.0457\n",
            "[360]\tvalid_0's l1: 8.99067\tvalid_0's rmse: 12.0419\n",
            "[361]\tvalid_0's l1: 8.98672\tvalid_0's rmse: 12.0369\n",
            "[362]\tvalid_0's l1: 8.98602\tvalid_0's rmse: 12.0334\n",
            "[363]\tvalid_0's l1: 8.98532\tvalid_0's rmse: 12.0298\n",
            "[364]\tvalid_0's l1: 8.9812\tvalid_0's rmse: 12.0248\n",
            "[365]\tvalid_0's l1: 8.97952\tvalid_0's rmse: 12.0212\n",
            "[366]\tvalid_0's l1: 8.97885\tvalid_0's rmse: 12.0178\n",
            "[367]\tvalid_0's l1: 8.97818\tvalid_0's rmse: 12.0144\n",
            "[368]\tvalid_0's l1: 8.97751\tvalid_0's rmse: 12.0111\n",
            "[369]\tvalid_0's l1: 8.97586\tvalid_0's rmse: 12.0077\n",
            "[370]\tvalid_0's l1: 8.97422\tvalid_0's rmse: 12.0043\n",
            "[371]\tvalid_0's l1: 8.97491\tvalid_0's rmse: 12.0024\n",
            "[372]\tvalid_0's l1: 8.97561\tvalid_0's rmse: 12.0004\n",
            "[373]\tvalid_0's l1: 8.9763\tvalid_0's rmse: 11.9985\n",
            "[374]\tvalid_0's l1: 8.97698\tvalid_0's rmse: 11.9966\n",
            "[375]\tvalid_0's l1: 8.97767\tvalid_0's rmse: 11.9948\n",
            "[376]\tvalid_0's l1: 8.97835\tvalid_0's rmse: 11.993\n",
            "[377]\tvalid_0's l1: 8.97902\tvalid_0's rmse: 11.9913\n",
            "[378]\tvalid_0's l1: 8.97969\tvalid_0's rmse: 11.9895\n",
            "[379]\tvalid_0's l1: 8.98036\tvalid_0's rmse: 11.9879\n",
            "[380]\tvalid_0's l1: 8.98103\tvalid_0's rmse: 11.9862\n",
            "[381]\tvalid_0's l1: 8.97598\tvalid_0's rmse: 11.9797\n",
            "[382]\tvalid_0's l1: 8.97097\tvalid_0's rmse: 11.9733\n",
            "[383]\tvalid_0's l1: 8.96598\tvalid_0's rmse: 11.9669\n",
            "[384]\tvalid_0's l1: 8.96101\tvalid_0's rmse: 11.9606\n",
            "[385]\tvalid_0's l1: 8.95607\tvalid_0's rmse: 11.9543\n",
            "[386]\tvalid_0's l1: 8.95116\tvalid_0's rmse: 11.948\n",
            "[387]\tvalid_0's l1: 8.94627\tvalid_0's rmse: 11.9418\n",
            "[388]\tvalid_0's l1: 8.94141\tvalid_0's rmse: 11.9356\n",
            "[389]\tvalid_0's l1: 8.93657\tvalid_0's rmse: 11.9295\n",
            "[390]\tvalid_0's l1: 8.93176\tvalid_0's rmse: 11.9234\n",
            "[391]\tvalid_0's l1: 8.92931\tvalid_0's rmse: 11.9226\n",
            "[392]\tvalid_0's l1: 8.92688\tvalid_0's rmse: 11.9217\n",
            "[393]\tvalid_0's l1: 8.92491\tvalid_0's rmse: 11.9214\n",
            "[394]\tvalid_0's l1: 8.9225\tvalid_0's rmse: 11.9206\n",
            "[395]\tvalid_0's l1: 8.9201\tvalid_0's rmse: 11.9198\n",
            "[396]\tvalid_0's l1: 8.91772\tvalid_0's rmse: 11.9191\n",
            "[397]\tvalid_0's l1: 8.91535\tvalid_0's rmse: 11.9184\n",
            "[398]\tvalid_0's l1: 8.91521\tvalid_0's rmse: 11.9177\n",
            "[399]\tvalid_0's l1: 8.9156\tvalid_0's rmse: 11.9171\n",
            "[400]\tvalid_0's l1: 8.91599\tvalid_0's rmse: 11.9165\n",
            "[401]\tvalid_0's l1: 8.91767\tvalid_0's rmse: 11.917\n",
            "[402]\tvalid_0's l1: 8.91934\tvalid_0's rmse: 11.9175\n",
            "[403]\tvalid_0's l1: 8.92719\tvalid_0's rmse: 11.9335\n",
            "[404]\tvalid_0's l1: 8.9309\tvalid_0's rmse: 11.9488\n",
            "[405]\tvalid_0's l1: 8.93574\tvalid_0's rmse: 11.9646\n",
            "[406]\tvalid_0's l1: 8.9435\tvalid_0's rmse: 11.9805\n",
            "[407]\tvalid_0's l1: 8.94713\tvalid_0's rmse: 11.9956\n",
            "[408]\tvalid_0's l1: 8.95483\tvalid_0's rmse: 12.0114\n",
            "[409]\tvalid_0's l1: 8.95956\tvalid_0's rmse: 12.0271\n",
            "[410]\tvalid_0's l1: 8.96718\tvalid_0's rmse: 12.0427\n",
            "[411]\tvalid_0's l1: 8.97003\tvalid_0's rmse: 12.0512\n",
            "[412]\tvalid_0's l1: 8.96943\tvalid_0's rmse: 12.0465\n",
            "[413]\tvalid_0's l1: 8.96884\tvalid_0's rmse: 12.0419\n",
            "[414]\tvalid_0's l1: 8.96956\tvalid_0's rmse: 12.0505\n",
            "[415]\tvalid_0's l1: 8.97237\tvalid_0's rmse: 12.059\n",
            "[416]\tvalid_0's l1: 8.97307\tvalid_0's rmse: 12.0676\n",
            "[417]\tvalid_0's l1: 8.97586\tvalid_0's rmse: 12.0761\n",
            "[418]\tvalid_0's l1: 8.97863\tvalid_0's rmse: 12.0847\n",
            "[419]\tvalid_0's l1: 8.9814\tvalid_0's rmse: 12.0932\n",
            "[420]\tvalid_0's l1: 8.98415\tvalid_0's rmse: 12.1018\n",
            "[421]\tvalid_0's l1: 8.98525\tvalid_0's rmse: 12.1004\n",
            "[422]\tvalid_0's l1: 8.98636\tvalid_0's rmse: 12.099\n",
            "[423]\tvalid_0's l1: 8.98746\tvalid_0's rmse: 12.0976\n",
            "[424]\tvalid_0's l1: 8.98855\tvalid_0's rmse: 12.0963\n",
            "[425]\tvalid_0's l1: 8.98964\tvalid_0's rmse: 12.095\n",
            "[426]\tvalid_0's l1: 8.99072\tvalid_0's rmse: 12.0937\n",
            "[427]\tvalid_0's l1: 8.9918\tvalid_0's rmse: 12.0924\n",
            "[428]\tvalid_0's l1: 8.99287\tvalid_0's rmse: 12.0912\n",
            "[429]\tvalid_0's l1: 8.99394\tvalid_0's rmse: 12.09\n",
            "[430]\tvalid_0's l1: 8.995\tvalid_0's rmse: 12.0888\n",
            "[431]\tvalid_0's l1: 8.99672\tvalid_0's rmse: 12.0989\n",
            "[432]\tvalid_0's l1: 8.99843\tvalid_0's rmse: 12.1089\n",
            "[433]\tvalid_0's l1: 9.00013\tvalid_0's rmse: 12.119\n",
            "[434]\tvalid_0's l1: 9.00183\tvalid_0's rmse: 12.1291\n",
            "[435]\tvalid_0's l1: 9.00351\tvalid_0's rmse: 12.1392\n",
            "[436]\tvalid_0's l1: 9.00519\tvalid_0's rmse: 12.1493\n",
            "[437]\tvalid_0's l1: 9.00686\tvalid_0's rmse: 12.1594\n",
            "[438]\tvalid_0's l1: 9.00853\tvalid_0's rmse: 12.1695\n",
            "[439]\tvalid_0's l1: 9.00782\tvalid_0's rmse: 12.1665\n",
            "[440]\tvalid_0's l1: 9.00711\tvalid_0's rmse: 12.1635\n",
            "[441]\tvalid_0's l1: 9.00835\tvalid_0's rmse: 12.1635\n",
            "[442]\tvalid_0's l1: 9.00957\tvalid_0's rmse: 12.1635\n",
            "[443]\tvalid_0's l1: 9.0108\tvalid_0's rmse: 12.1635\n",
            "[444]\tvalid_0's l1: 9.00754\tvalid_0's rmse: 12.1604\n",
            "[445]\tvalid_0's l1: 9.00876\tvalid_0's rmse: 12.1604\n",
            "[446]\tvalid_0's l1: 9.00997\tvalid_0's rmse: 12.1605\n",
            "[447]\tvalid_0's l1: 9.01314\tvalid_0's rmse: 12.1608\n",
            "[448]\tvalid_0's l1: 9.0163\tvalid_0's rmse: 12.1611\n",
            "[449]\tvalid_0's l1: 9.01749\tvalid_0's rmse: 12.1611\n",
            "[450]\tvalid_0's l1: 9.01868\tvalid_0's rmse: 12.1612\n",
            "[451]\tvalid_0's l1: 9.02184\tvalid_0's rmse: 12.1607\n",
            "[452]\tvalid_0's l1: 9.02499\tvalid_0's rmse: 12.1601\n",
            "[453]\tvalid_0's l1: 9.02813\tvalid_0's rmse: 12.1596\n",
            "[454]\tvalid_0's l1: 9.03125\tvalid_0's rmse: 12.1592\n",
            "[455]\tvalid_0's l1: 9.03436\tvalid_0's rmse: 12.1587\n",
            "[456]\tvalid_0's l1: 9.03745\tvalid_0's rmse: 12.1583\n",
            "[457]\tvalid_0's l1: 9.04053\tvalid_0's rmse: 12.1579\n",
            "[458]\tvalid_0's l1: 9.04059\tvalid_0's rmse: 12.1561\n",
            "[459]\tvalid_0's l1: 9.04365\tvalid_0's rmse: 12.1557\n",
            "[460]\tvalid_0's l1: 9.0437\tvalid_0's rmse: 12.154\n",
            "[461]\tvalid_0's l1: 9.04294\tvalid_0's rmse: 12.1506\n",
            "[462]\tvalid_0's l1: 9.04219\tvalid_0's rmse: 12.1472\n",
            "[463]\tvalid_0's l1: 9.04143\tvalid_0's rmse: 12.1439\n",
            "[464]\tvalid_0's l1: 9.04069\tvalid_0's rmse: 12.1406\n",
            "[465]\tvalid_0's l1: 9.03861\tvalid_0's rmse: 12.135\n",
            "[466]\tvalid_0's l1: 9.03291\tvalid_0's rmse: 12.1309\n",
            "[467]\tvalid_0's l1: 9.03218\tvalid_0's rmse: 12.1276\n",
            "[468]\tvalid_0's l1: 9.03146\tvalid_0's rmse: 12.1244\n",
            "[469]\tvalid_0's l1: 9.02713\tvalid_0's rmse: 12.1208\n",
            "[470]\tvalid_0's l1: 9.02643\tvalid_0's rmse: 12.1176\n",
            "[471]\tvalid_0's l1: 9.02518\tvalid_0's rmse: 12.1203\n",
            "[472]\tvalid_0's l1: 9.02393\tvalid_0's rmse: 12.1231\n",
            "[473]\tvalid_0's l1: 9.02484\tvalid_0's rmse: 12.1262\n",
            "[474]\tvalid_0's l1: 9.02574\tvalid_0's rmse: 12.1293\n",
            "[475]\tvalid_0's l1: 9.02664\tvalid_0's rmse: 12.1325\n",
            "[476]\tvalid_0's l1: 9.02754\tvalid_0's rmse: 12.1356\n",
            "[477]\tvalid_0's l1: 9.02843\tvalid_0's rmse: 12.1388\n",
            "[478]\tvalid_0's l1: 9.02422\tvalid_0's rmse: 12.1339\n",
            "[479]\tvalid_0's l1: 9.02002\tvalid_0's rmse: 12.1291\n",
            "[480]\tvalid_0's l1: 9.02092\tvalid_0's rmse: 12.1322\n",
            "[481]\tvalid_0's l1: 9.01683\tvalid_0's rmse: 12.1273\n",
            "[482]\tvalid_0's l1: 9.01274\tvalid_0's rmse: 12.1224\n",
            "[483]\tvalid_0's l1: 9.00868\tvalid_0's rmse: 12.1176\n",
            "[484]\tvalid_0's l1: 9.00463\tvalid_0's rmse: 12.1127\n",
            "[485]\tvalid_0's l1: 9.0006\tvalid_0's rmse: 12.1079\n",
            "[486]\tvalid_0's l1: 8.99659\tvalid_0's rmse: 12.1031\n",
            "[487]\tvalid_0's l1: 8.99259\tvalid_0's rmse: 12.0984\n",
            "[488]\tvalid_0's l1: 8.98861\tvalid_0's rmse: 12.0937\n",
            "[489]\tvalid_0's l1: 8.98464\tvalid_0's rmse: 12.0889\n",
            "[490]\tvalid_0's l1: 8.98069\tvalid_0's rmse: 12.0843\n",
            "[491]\tvalid_0's l1: 8.97968\tvalid_0's rmse: 12.0802\n",
            "[492]\tvalid_0's l1: 8.97866\tvalid_0's rmse: 12.0762\n",
            "[493]\tvalid_0's l1: 8.97766\tvalid_0's rmse: 12.0722\n",
            "[494]\tvalid_0's l1: 8.97665\tvalid_0's rmse: 12.0683\n",
            "[495]\tvalid_0's l1: 8.97565\tvalid_0's rmse: 12.0644\n",
            "[496]\tvalid_0's l1: 8.97466\tvalid_0's rmse: 12.0605\n",
            "[497]\tvalid_0's l1: 8.97367\tvalid_0's rmse: 12.0566\n",
            "[498]\tvalid_0's l1: 8.97268\tvalid_0's rmse: 12.0528\n",
            "[499]\tvalid_0's l1: 8.97169\tvalid_0's rmse: 12.049\n",
            "[500]\tvalid_0's l1: 8.97071\tvalid_0's rmse: 12.0452\n",
            "[501]\tvalid_0's l1: 8.97209\tvalid_0's rmse: 12.044\n",
            "[502]\tvalid_0's l1: 8.97346\tvalid_0's rmse: 12.0429\n",
            "[503]\tvalid_0's l1: 8.97482\tvalid_0's rmse: 12.0418\n",
            "[504]\tvalid_0's l1: 8.97416\tvalid_0's rmse: 12.0404\n",
            "[505]\tvalid_0's l1: 8.9744\tvalid_0's rmse: 12.0391\n",
            "[506]\tvalid_0's l1: 8.97223\tvalid_0's rmse: 12.0377\n",
            "[507]\tvalid_0's l1: 8.97158\tvalid_0's rmse: 12.0364\n",
            "[508]\tvalid_0's l1: 8.97293\tvalid_0's rmse: 12.0354\n",
            "[509]\tvalid_0's l1: 8.97317\tvalid_0's rmse: 12.0341\n",
            "[510]\tvalid_0's l1: 8.97341\tvalid_0's rmse: 12.0328\n",
            "[511]\tvalid_0's l1: 8.97748\tvalid_0's rmse: 12.0432\n",
            "[512]\tvalid_0's l1: 8.98154\tvalid_0's rmse: 12.0536\n",
            "[513]\tvalid_0's l1: 8.98558\tvalid_0's rmse: 12.064\n",
            "[514]\tvalid_0's l1: 8.98961\tvalid_0's rmse: 12.0744\n",
            "[515]\tvalid_0's l1: 8.98647\tvalid_0's rmse: 12.07\n",
            "[516]\tvalid_0's l1: 8.98334\tvalid_0's rmse: 12.0656\n",
            "[517]\tvalid_0's l1: 8.98735\tvalid_0's rmse: 12.0759\n",
            "[518]\tvalid_0's l1: 8.99134\tvalid_0's rmse: 12.0862\n",
            "[519]\tvalid_0's l1: 8.9869\tvalid_0's rmse: 12.0823\n",
            "[520]\tvalid_0's l1: 8.9888\tvalid_0's rmse: 12.0924\n",
            "[521]\tvalid_0's l1: 8.98812\tvalid_0's rmse: 12.0894\n",
            "[522]\tvalid_0's l1: 8.98745\tvalid_0's rmse: 12.0865\n",
            "[523]\tvalid_0's l1: 8.98678\tvalid_0's rmse: 12.0836\n",
            "[524]\tvalid_0's l1: 8.98612\tvalid_0's rmse: 12.0808\n",
            "[525]\tvalid_0's l1: 8.9854\tvalid_0's rmse: 12.0779\n",
            "[526]\tvalid_0's l1: 8.98474\tvalid_0's rmse: 12.0751\n",
            "[527]\tvalid_0's l1: 8.98408\tvalid_0's rmse: 12.0723\n",
            "[528]\tvalid_0's l1: 8.98342\tvalid_0's rmse: 12.0695\n",
            "[529]\tvalid_0's l1: 8.98277\tvalid_0's rmse: 12.0668\n",
            "[530]\tvalid_0's l1: 8.98206\tvalid_0's rmse: 12.064\n",
            "[531]\tvalid_0's l1: 8.97879\tvalid_0's rmse: 12.0668\n",
            "[532]\tvalid_0's l1: 8.97553\tvalid_0's rmse: 12.0697\n",
            "[533]\tvalid_0's l1: 8.97229\tvalid_0's rmse: 12.0726\n",
            "[534]\tvalid_0's l1: 8.96906\tvalid_0's rmse: 12.0755\n",
            "[535]\tvalid_0's l1: 8.96805\tvalid_0's rmse: 12.0816\n",
            "[536]\tvalid_0's l1: 8.96484\tvalid_0's rmse: 12.0846\n",
            "[537]\tvalid_0's l1: 8.96164\tvalid_0's rmse: 12.0876\n",
            "[538]\tvalid_0's l1: 8.95845\tvalid_0's rmse: 12.0907\n",
            "[539]\tvalid_0's l1: 8.95527\tvalid_0's rmse: 12.0938\n",
            "[540]\tvalid_0's l1: 8.95211\tvalid_0's rmse: 12.0969\n",
            "[541]\tvalid_0's l1: 8.95164\tvalid_0's rmse: 12.0948\n",
            "[542]\tvalid_0's l1: 8.95118\tvalid_0's rmse: 12.0926\n",
            "[543]\tvalid_0's l1: 8.95071\tvalid_0's rmse: 12.0905\n",
            "[544]\tvalid_0's l1: 8.95025\tvalid_0's rmse: 12.0884\n",
            "[545]\tvalid_0's l1: 8.94979\tvalid_0's rmse: 12.0863\n",
            "[546]\tvalid_0's l1: 8.94933\tvalid_0's rmse: 12.0842\n",
            "[547]\tvalid_0's l1: 8.94887\tvalid_0's rmse: 12.0822\n",
            "[548]\tvalid_0's l1: 8.94842\tvalid_0's rmse: 12.0801\n",
            "[549]\tvalid_0's l1: 8.94796\tvalid_0's rmse: 12.0781\n",
            "[550]\tvalid_0's l1: 8.94751\tvalid_0's rmse: 12.0761\n",
            "[551]\tvalid_0's l1: 8.94539\tvalid_0's rmse: 12.0719\n",
            "[552]\tvalid_0's l1: 8.94204\tvalid_0's rmse: 12.0673\n",
            "[553]\tvalid_0's l1: 8.94129\tvalid_0's rmse: 12.0639\n",
            "[554]\tvalid_0's l1: 8.94055\tvalid_0's rmse: 12.0604\n",
            "[555]\tvalid_0's l1: 8.9398\tvalid_0's rmse: 12.057\n",
            "[556]\tvalid_0's l1: 8.93906\tvalid_0's rmse: 12.0536\n",
            "[557]\tvalid_0's l1: 8.93832\tvalid_0's rmse: 12.0502\n",
            "[558]\tvalid_0's l1: 8.93759\tvalid_0's rmse: 12.0468\n",
            "[559]\tvalid_0's l1: 8.93685\tvalid_0's rmse: 12.0434\n",
            "[560]\tvalid_0's l1: 8.93736\tvalid_0's rmse: 12.0403\n",
            "[561]\tvalid_0's l1: 8.94126\tvalid_0's rmse: 12.0509\n",
            "[562]\tvalid_0's l1: 8.94515\tvalid_0's rmse: 12.0615\n",
            "[563]\tvalid_0's l1: 8.94439\tvalid_0's rmse: 12.0573\n",
            "[564]\tvalid_0's l1: 8.94363\tvalid_0's rmse: 12.053\n",
            "[565]\tvalid_0's l1: 8.94287\tvalid_0's rmse: 12.0488\n",
            "[566]\tvalid_0's l1: 8.94211\tvalid_0's rmse: 12.0446\n",
            "[567]\tvalid_0's l1: 8.94136\tvalid_0's rmse: 12.0404\n",
            "[568]\tvalid_0's l1: 8.94025\tvalid_0's rmse: 12.0365\n",
            "[569]\tvalid_0's l1: 8.9395\tvalid_0's rmse: 12.0324\n",
            "[570]\tvalid_0's l1: 8.93875\tvalid_0's rmse: 12.0283\n",
            "[571]\tvalid_0's l1: 8.94062\tvalid_0's rmse: 12.0289\n",
            "[572]\tvalid_0's l1: 8.94248\tvalid_0's rmse: 12.0296\n",
            "[573]\tvalid_0's l1: 8.94434\tvalid_0's rmse: 12.0302\n",
            "[574]\tvalid_0's l1: 8.94618\tvalid_0's rmse: 12.0309\n",
            "[575]\tvalid_0's l1: 8.94802\tvalid_0's rmse: 12.0315\n",
            "[576]\tvalid_0's l1: 8.94986\tvalid_0's rmse: 12.0322\n",
            "[577]\tvalid_0's l1: 8.95169\tvalid_0's rmse: 12.0329\n",
            "[578]\tvalid_0's l1: 8.95351\tvalid_0's rmse: 12.0336\n",
            "[579]\tvalid_0's l1: 8.95532\tvalid_0's rmse: 12.0343\n",
            "[580]\tvalid_0's l1: 8.95713\tvalid_0's rmse: 12.035\n",
            "[581]\tvalid_0's l1: 8.95525\tvalid_0's rmse: 12.0337\n",
            "[582]\tvalid_0's l1: 8.95585\tvalid_0's rmse: 12.0329\n",
            "[583]\tvalid_0's l1: 8.95645\tvalid_0's rmse: 12.0321\n",
            "[584]\tvalid_0's l1: 8.95832\tvalid_0's rmse: 12.0317\n",
            "[585]\tvalid_0's l1: 8.95891\tvalid_0's rmse: 12.0309\n",
            "[586]\tvalid_0's l1: 8.9595\tvalid_0's rmse: 12.0302\n",
            "[587]\tvalid_0's l1: 8.96009\tvalid_0's rmse: 12.0294\n",
            "[588]\tvalid_0's l1: 8.96194\tvalid_0's rmse: 12.029\n",
            "[589]\tvalid_0's l1: 8.96379\tvalid_0's rmse: 12.0286\n",
            "[590]\tvalid_0's l1: 8.96437\tvalid_0's rmse: 12.0279\n",
            "[591]\tvalid_0's l1: 8.9655\tvalid_0's rmse: 12.0273\n",
            "[592]\tvalid_0's l1: 8.96528\tvalid_0's rmse: 12.0264\n",
            "[593]\tvalid_0's l1: 8.9664\tvalid_0's rmse: 12.0259\n",
            "[594]\tvalid_0's l1: 8.96618\tvalid_0's rmse: 12.025\n",
            "[595]\tvalid_0's l1: 8.96596\tvalid_0's rmse: 12.0241\n",
            "[596]\tvalid_0's l1: 8.96574\tvalid_0's rmse: 12.0232\n",
            "[597]\tvalid_0's l1: 8.96552\tvalid_0's rmse: 12.0223\n",
            "[598]\tvalid_0's l1: 8.9653\tvalid_0's rmse: 12.0215\n",
            "[599]\tvalid_0's l1: 8.96509\tvalid_0's rmse: 12.0206\n",
            "[600]\tvalid_0's l1: 8.96487\tvalid_0's rmse: 12.0198\n",
            "[601]\tvalid_0's l1: 8.96273\tvalid_0's rmse: 12.0167\n",
            "[602]\tvalid_0's l1: 8.96059\tvalid_0's rmse: 12.0135\n",
            "[603]\tvalid_0's l1: 8.95846\tvalid_0's rmse: 12.0104\n",
            "[604]\tvalid_0's l1: 8.95743\tvalid_0's rmse: 12.0076\n",
            "[605]\tvalid_0's l1: 8.95531\tvalid_0's rmse: 12.0045\n",
            "[606]\tvalid_0's l1: 8.9532\tvalid_0's rmse: 12.0015\n",
            "[607]\tvalid_0's l1: 8.95109\tvalid_0's rmse: 11.9984\n",
            "[608]\tvalid_0's l1: 8.94718\tvalid_0's rmse: 11.9953\n",
            "[609]\tvalid_0's l1: 8.94509\tvalid_0's rmse: 11.9923\n",
            "[610]\tvalid_0's l1: 8.9441\tvalid_0's rmse: 11.9895\n",
            "[611]\tvalid_0's l1: 8.94121\tvalid_0's rmse: 11.9839\n",
            "[612]\tvalid_0's l1: 8.93833\tvalid_0's rmse: 11.9784\n",
            "[613]\tvalid_0's l1: 8.93547\tvalid_0's rmse: 11.9728\n",
            "[614]\tvalid_0's l1: 8.93261\tvalid_0's rmse: 11.9673\n",
            "[615]\tvalid_0's l1: 8.92976\tvalid_0's rmse: 11.9618\n",
            "[616]\tvalid_0's l1: 8.92693\tvalid_0's rmse: 11.9563\n",
            "[617]\tvalid_0's l1: 8.9241\tvalid_0's rmse: 11.9509\n",
            "[618]\tvalid_0's l1: 8.92128\tvalid_0's rmse: 11.9454\n",
            "[619]\tvalid_0's l1: 8.91846\tvalid_0's rmse: 11.94\n",
            "[620]\tvalid_0's l1: 8.91566\tvalid_0's rmse: 11.9346\n",
            "[621]\tvalid_0's l1: 8.9196\tvalid_0's rmse: 11.9445\n",
            "[622]\tvalid_0's l1: 8.92352\tvalid_0's rmse: 11.9544\n",
            "[623]\tvalid_0's l1: 8.92743\tvalid_0's rmse: 11.9643\n",
            "[624]\tvalid_0's l1: 8.93133\tvalid_0's rmse: 11.9742\n",
            "[625]\tvalid_0's l1: 8.93521\tvalid_0's rmse: 11.984\n",
            "[626]\tvalid_0's l1: 8.93908\tvalid_0's rmse: 11.9938\n",
            "[627]\tvalid_0's l1: 8.94295\tvalid_0's rmse: 12.0037\n",
            "[628]\tvalid_0's l1: 8.94251\tvalid_0's rmse: 12.0015\n",
            "[629]\tvalid_0's l1: 8.94636\tvalid_0's rmse: 12.0112\n",
            "[630]\tvalid_0's l1: 8.95019\tvalid_0's rmse: 12.021\n",
            "[631]\tvalid_0's l1: 8.94949\tvalid_0's rmse: 12.0237\n",
            "[632]\tvalid_0's l1: 8.94879\tvalid_0's rmse: 12.0263\n",
            "[633]\tvalid_0's l1: 8.94533\tvalid_0's rmse: 12.023\n",
            "[634]\tvalid_0's l1: 8.94524\tvalid_0's rmse: 12.0257\n",
            "[635]\tvalid_0's l1: 8.94514\tvalid_0's rmse: 12.0285\n",
            "[636]\tvalid_0's l1: 8.94504\tvalid_0's rmse: 12.0312\n",
            "[637]\tvalid_0's l1: 8.94494\tvalid_0's rmse: 12.034\n",
            "[638]\tvalid_0's l1: 8.94152\tvalid_0's rmse: 12.0307\n",
            "[639]\tvalid_0's l1: 8.94143\tvalid_0's rmse: 12.0334\n",
            "[640]\tvalid_0's l1: 8.93819\tvalid_0's rmse: 12.0301\n",
            "[641]\tvalid_0's l1: 8.94251\tvalid_0's rmse: 12.0382\n",
            "[642]\tvalid_0's l1: 8.94681\tvalid_0's rmse: 12.0463\n",
            "[643]\tvalid_0's l1: 8.94588\tvalid_0's rmse: 12.0449\n",
            "[644]\tvalid_0's l1: 8.94956\tvalid_0's rmse: 12.053\n",
            "[645]\tvalid_0's l1: 8.95383\tvalid_0's rmse: 12.0611\n",
            "[646]\tvalid_0's l1: 8.95809\tvalid_0's rmse: 12.0691\n",
            "[647]\tvalid_0's l1: 8.96234\tvalid_0's rmse: 12.0772\n",
            "[648]\tvalid_0's l1: 8.96657\tvalid_0's rmse: 12.0852\n",
            "[649]\tvalid_0's l1: 8.9708\tvalid_0's rmse: 12.0933\n",
            "[650]\tvalid_0's l1: 8.975\tvalid_0's rmse: 12.1013\n",
            "[651]\tvalid_0's l1: 8.97467\tvalid_0's rmse: 12.0997\n",
            "[652]\tvalid_0's l1: 8.97433\tvalid_0's rmse: 12.0982\n",
            "[653]\tvalid_0's l1: 8.974\tvalid_0's rmse: 12.0966\n",
            "[654]\tvalid_0's l1: 8.97367\tvalid_0's rmse: 12.0951\n",
            "[655]\tvalid_0's l1: 8.97334\tvalid_0's rmse: 12.0936\n",
            "[656]\tvalid_0's l1: 8.97301\tvalid_0's rmse: 12.0921\n",
            "[657]\tvalid_0's l1: 8.97268\tvalid_0's rmse: 12.0906\n",
            "[658]\tvalid_0's l1: 8.97235\tvalid_0's rmse: 12.0891\n",
            "[659]\tvalid_0's l1: 8.97202\tvalid_0's rmse: 12.0876\n",
            "[660]\tvalid_0's l1: 8.97169\tvalid_0's rmse: 12.0862\n",
            "[661]\tvalid_0's l1: 8.97099\tvalid_0's rmse: 12.0837\n",
            "[662]\tvalid_0's l1: 8.96945\tvalid_0's rmse: 12.0811\n",
            "[663]\tvalid_0's l1: 8.96792\tvalid_0's rmse: 12.0785\n",
            "[664]\tvalid_0's l1: 8.96722\tvalid_0's rmse: 12.0762\n",
            "[665]\tvalid_0's l1: 8.96652\tvalid_0's rmse: 12.0738\n",
            "[666]\tvalid_0's l1: 8.96298\tvalid_0's rmse: 12.0705\n",
            "[667]\tvalid_0's l1: 8.96147\tvalid_0's rmse: 12.0679\n",
            "[668]\tvalid_0's l1: 8.95996\tvalid_0's rmse: 12.0654\n",
            "[669]\tvalid_0's l1: 8.95928\tvalid_0's rmse: 12.0631\n",
            "[670]\tvalid_0's l1: 8.95778\tvalid_0's rmse: 12.0605\n",
            "[671]\tvalid_0's l1: 8.95713\tvalid_0's rmse: 12.0591\n",
            "[672]\tvalid_0's l1: 8.95648\tvalid_0's rmse: 12.0576\n",
            "[673]\tvalid_0's l1: 8.95293\tvalid_0's rmse: 12.0538\n",
            "[674]\tvalid_0's l1: 8.95345\tvalid_0's rmse: 12.0527\n",
            "[675]\tvalid_0's l1: 8.95281\tvalid_0's rmse: 12.0512\n",
            "[676]\tvalid_0's l1: 8.95218\tvalid_0's rmse: 12.0498\n",
            "[677]\tvalid_0's l1: 8.95154\tvalid_0's rmse: 12.0484\n",
            "[678]\tvalid_0's l1: 8.95091\tvalid_0's rmse: 12.047\n",
            "[679]\tvalid_0's l1: 8.95028\tvalid_0's rmse: 12.0456\n",
            "[680]\tvalid_0's l1: 8.94965\tvalid_0's rmse: 12.0442\n",
            "[681]\tvalid_0's l1: 8.94796\tvalid_0's rmse: 12.0413\n",
            "[682]\tvalid_0's l1: 8.94628\tvalid_0's rmse: 12.0383\n",
            "[683]\tvalid_0's l1: 8.94461\tvalid_0's rmse: 12.0354\n",
            "[684]\tvalid_0's l1: 8.94294\tvalid_0's rmse: 12.0325\n",
            "[685]\tvalid_0's l1: 8.94222\tvalid_0's rmse: 12.0298\n",
            "[686]\tvalid_0's l1: 8.94003\tvalid_0's rmse: 12.0277\n",
            "[687]\tvalid_0's l1: 8.93785\tvalid_0's rmse: 12.0256\n",
            "[688]\tvalid_0's l1: 8.9362\tvalid_0's rmse: 12.0227\n",
            "[689]\tvalid_0's l1: 8.93455\tvalid_0's rmse: 12.0199\n",
            "[690]\tvalid_0's l1: 8.93239\tvalid_0's rmse: 12.0178\n",
            "[691]\tvalid_0's l1: 8.93235\tvalid_0's rmse: 12.0155\n",
            "[692]\tvalid_0's l1: 8.9323\tvalid_0's rmse: 12.0132\n",
            "[693]\tvalid_0's l1: 8.93226\tvalid_0's rmse: 12.0109\n",
            "[694]\tvalid_0's l1: 8.93222\tvalid_0's rmse: 12.0086\n",
            "[695]\tvalid_0's l1: 8.93218\tvalid_0's rmse: 12.0063\n",
            "[696]\tvalid_0's l1: 8.93213\tvalid_0's rmse: 12.0041\n",
            "[697]\tvalid_0's l1: 8.93209\tvalid_0's rmse: 12.0018\n",
            "[698]\tvalid_0's l1: 8.93205\tvalid_0's rmse: 11.9996\n",
            "[699]\tvalid_0's l1: 8.93201\tvalid_0's rmse: 11.9974\n",
            "[700]\tvalid_0's l1: 8.93197\tvalid_0's rmse: 11.9952\n",
            "[701]\tvalid_0's l1: 8.93397\tvalid_0's rmse: 11.9957\n",
            "[702]\tvalid_0's l1: 8.93509\tvalid_0's rmse: 11.9961\n",
            "[703]\tvalid_0's l1: 8.93395\tvalid_0's rmse: 11.9959\n",
            "[704]\tvalid_0's l1: 8.93507\tvalid_0's rmse: 11.9962\n",
            "[705]\tvalid_0's l1: 8.93619\tvalid_0's rmse: 11.9966\n",
            "[706]\tvalid_0's l1: 8.9364\tvalid_0's rmse: 11.9968\n",
            "[707]\tvalid_0's l1: 8.93751\tvalid_0's rmse: 11.9972\n",
            "[708]\tvalid_0's l1: 8.93862\tvalid_0's rmse: 11.9975\n",
            "[709]\tvalid_0's l1: 8.93973\tvalid_0's rmse: 11.9979\n",
            "[710]\tvalid_0's l1: 8.93859\tvalid_0's rmse: 11.9977\n",
            "[711]\tvalid_0's l1: 8.94011\tvalid_0's rmse: 11.9965\n",
            "[712]\tvalid_0's l1: 8.94162\tvalid_0's rmse: 11.9953\n",
            "[713]\tvalid_0's l1: 8.94096\tvalid_0's rmse: 11.9937\n",
            "[714]\tvalid_0's l1: 8.94178\tvalid_0's rmse: 11.9924\n",
            "[715]\tvalid_0's l1: 8.94112\tvalid_0's rmse: 11.9908\n",
            "[716]\tvalid_0's l1: 8.94262\tvalid_0's rmse: 11.9897\n",
            "[717]\tvalid_0's l1: 8.94412\tvalid_0's rmse: 11.9885\n",
            "[718]\tvalid_0's l1: 8.94561\tvalid_0's rmse: 11.9874\n",
            "[719]\tvalid_0's l1: 8.9471\tvalid_0's rmse: 11.9863\n",
            "[720]\tvalid_0's l1: 8.94859\tvalid_0's rmse: 11.9851\n",
            "[721]\tvalid_0's l1: 8.9463\tvalid_0's rmse: 11.9829\n",
            "[722]\tvalid_0's l1: 8.94553\tvalid_0's rmse: 11.9817\n",
            "[723]\tvalid_0's l1: 8.94477\tvalid_0's rmse: 11.9805\n",
            "[724]\tvalid_0's l1: 8.94401\tvalid_0's rmse: 11.9793\n",
            "[725]\tvalid_0's l1: 8.94403\tvalid_0's rmse: 11.9783\n",
            "[726]\tvalid_0's l1: 8.94176\tvalid_0's rmse: 11.9761\n",
            "[727]\tvalid_0's l1: 8.9395\tvalid_0's rmse: 11.9738\n",
            "[728]\tvalid_0's l1: 8.93875\tvalid_0's rmse: 11.9727\n",
            "[729]\tvalid_0's l1: 8.938\tvalid_0's rmse: 11.9715\n",
            "[730]\tvalid_0's l1: 8.93726\tvalid_0's rmse: 11.9703\n",
            "[731]\tvalid_0's l1: 8.9401\tvalid_0's rmse: 11.9721\n",
            "[732]\tvalid_0's l1: 8.94294\tvalid_0's rmse: 11.9738\n",
            "[733]\tvalid_0's l1: 8.94577\tvalid_0's rmse: 11.9756\n",
            "[734]\tvalid_0's l1: 8.94859\tvalid_0's rmse: 11.9774\n",
            "[735]\tvalid_0's l1: 8.9514\tvalid_0's rmse: 11.9791\n",
            "[736]\tvalid_0's l1: 8.95421\tvalid_0's rmse: 11.9809\n",
            "[737]\tvalid_0's l1: 8.95701\tvalid_0's rmse: 11.9826\n",
            "[738]\tvalid_0's l1: 8.9598\tvalid_0's rmse: 11.9844\n",
            "[739]\tvalid_0's l1: 8.96258\tvalid_0's rmse: 11.9862\n",
            "[740]\tvalid_0's l1: 8.96535\tvalid_0's rmse: 11.9879\n",
            "[741]\tvalid_0's l1: 8.96669\tvalid_0's rmse: 11.988\n",
            "[742]\tvalid_0's l1: 8.96465\tvalid_0's rmse: 11.9864\n",
            "[743]\tvalid_0's l1: 8.96598\tvalid_0's rmse: 11.9864\n",
            "[744]\tvalid_0's l1: 8.96731\tvalid_0's rmse: 11.9865\n",
            "[745]\tvalid_0's l1: 8.96864\tvalid_0's rmse: 11.9865\n",
            "[746]\tvalid_0's l1: 8.96894\tvalid_0's rmse: 11.9863\n",
            "[747]\tvalid_0's l1: 8.96924\tvalid_0's rmse: 11.986\n",
            "[748]\tvalid_0's l1: 8.97056\tvalid_0's rmse: 11.9861\n",
            "[749]\tvalid_0's l1: 8.96853\tvalid_0's rmse: 11.9845\n",
            "[750]\tvalid_0's l1: 8.96884\tvalid_0's rmse: 11.9843\n",
            "[751]\tvalid_0's l1: 8.96691\tvalid_0's rmse: 11.9825\n",
            "[752]\tvalid_0's l1: 8.96769\tvalid_0's rmse: 11.9812\n",
            "[753]\tvalid_0's l1: 8.96766\tvalid_0's rmse: 11.9797\n",
            "[754]\tvalid_0's l1: 8.96843\tvalid_0's rmse: 11.9784\n",
            "[755]\tvalid_0's l1: 8.9684\tvalid_0's rmse: 11.9769\n",
            "[756]\tvalid_0's l1: 8.96649\tvalid_0's rmse: 11.9752\n",
            "[757]\tvalid_0's l1: 8.96458\tvalid_0's rmse: 11.9735\n",
            "[758]\tvalid_0's l1: 8.96456\tvalid_0's rmse: 11.972\n",
            "[759]\tvalid_0's l1: 8.96453\tvalid_0's rmse: 11.9705\n",
            "[760]\tvalid_0's l1: 8.96451\tvalid_0's rmse: 11.969\n",
            "[761]\tvalid_0's l1: 8.96471\tvalid_0's rmse: 11.9742\n",
            "[762]\tvalid_0's l1: 8.96331\tvalid_0's rmse: 11.9723\n",
            "[763]\tvalid_0's l1: 8.9655\tvalid_0's rmse: 11.9778\n",
            "[764]\tvalid_0's l1: 8.96503\tvalid_0's rmse: 11.9829\n",
            "[765]\tvalid_0's l1: 8.96264\tvalid_0's rmse: 11.9807\n",
            "[766]\tvalid_0's l1: 8.96482\tvalid_0's rmse: 11.9861\n",
            "[767]\tvalid_0's l1: 8.96243\tvalid_0's rmse: 11.984\n",
            "[768]\tvalid_0's l1: 8.96461\tvalid_0's rmse: 11.9894\n",
            "[769]\tvalid_0's l1: 8.96415\tvalid_0's rmse: 11.9945\n",
            "[770]\tvalid_0's l1: 8.96631\tvalid_0's rmse: 11.9999\n",
            "[771]\tvalid_0's l1: 8.96439\tvalid_0's rmse: 11.997\n",
            "[772]\tvalid_0's l1: 8.9638\tvalid_0's rmse: 11.9951\n",
            "[773]\tvalid_0's l1: 8.96321\tvalid_0's rmse: 11.9933\n",
            "[774]\tvalid_0's l1: 8.9613\tvalid_0's rmse: 11.9904\n",
            "[775]\tvalid_0's l1: 8.96071\tvalid_0's rmse: 11.9886\n",
            "[776]\tvalid_0's l1: 8.96013\tvalid_0's rmse: 11.9868\n",
            "[777]\tvalid_0's l1: 8.95955\tvalid_0's rmse: 11.9851\n",
            "[778]\tvalid_0's l1: 8.96\tvalid_0's rmse: 11.9836\n",
            "[779]\tvalid_0's l1: 8.96045\tvalid_0's rmse: 11.9822\n",
            "[780]\tvalid_0's l1: 8.95987\tvalid_0's rmse: 11.9804\n",
            "[781]\tvalid_0's l1: 8.95949\tvalid_0's rmse: 11.9781\n",
            "[782]\tvalid_0's l1: 8.95911\tvalid_0's rmse: 11.9758\n",
            "[783]\tvalid_0's l1: 8.95873\tvalid_0's rmse: 11.9735\n",
            "[784]\tvalid_0's l1: 8.95815\tvalid_0's rmse: 11.9713\n",
            "[785]\tvalid_0's l1: 8.95951\tvalid_0's rmse: 11.9703\n",
            "[786]\tvalid_0's l1: 8.95914\tvalid_0's rmse: 11.968\n",
            "[787]\tvalid_0's l1: 8.95876\tvalid_0's rmse: 11.9658\n",
            "[788]\tvalid_0's l1: 8.95839\tvalid_0's rmse: 11.9635\n",
            "[789]\tvalid_0's l1: 8.95801\tvalid_0's rmse: 11.9613\n",
            "[790]\tvalid_0's l1: 8.95764\tvalid_0's rmse: 11.959\n",
            "[791]\tvalid_0's l1: 8.95787\tvalid_0's rmse: 11.9576\n",
            "[792]\tvalid_0's l1: 8.95811\tvalid_0's rmse: 11.9561\n",
            "[793]\tvalid_0's l1: 8.95834\tvalid_0's rmse: 11.9547\n",
            "[794]\tvalid_0's l1: 8.95857\tvalid_0's rmse: 11.9533\n",
            "[795]\tvalid_0's l1: 8.9588\tvalid_0's rmse: 11.9518\n",
            "[796]\tvalid_0's l1: 8.95903\tvalid_0's rmse: 11.9504\n",
            "[797]\tvalid_0's l1: 8.95926\tvalid_0's rmse: 11.949\n",
            "[798]\tvalid_0's l1: 8.95949\tvalid_0's rmse: 11.9476\n",
            "[799]\tvalid_0's l1: 8.95972\tvalid_0's rmse: 11.9463\n",
            "[800]\tvalid_0's l1: 8.95994\tvalid_0's rmse: 11.9449\n",
            "[801]\tvalid_0's l1: 8.9595\tvalid_0's rmse: 11.9432\n",
            "[802]\tvalid_0's l1: 8.95906\tvalid_0's rmse: 11.9414\n",
            "[803]\tvalid_0's l1: 8.95861\tvalid_0's rmse: 11.9397\n",
            "[804]\tvalid_0's l1: 8.95817\tvalid_0's rmse: 11.938\n",
            "[805]\tvalid_0's l1: 8.95773\tvalid_0's rmse: 11.9363\n",
            "[806]\tvalid_0's l1: 8.95729\tvalid_0's rmse: 11.9346\n",
            "[807]\tvalid_0's l1: 8.9548\tvalid_0's rmse: 11.9323\n",
            "[808]\tvalid_0's l1: 8.95437\tvalid_0's rmse: 11.9306\n",
            "[809]\tvalid_0's l1: 8.95393\tvalid_0's rmse: 11.9289\n",
            "[810]\tvalid_0's l1: 8.95145\tvalid_0's rmse: 11.9267\n",
            "[811]\tvalid_0's l1: 8.95152\tvalid_0's rmse: 11.9252\n",
            "[812]\tvalid_0's l1: 8.95055\tvalid_0's rmse: 11.9236\n",
            "[813]\tvalid_0's l1: 8.95062\tvalid_0's rmse: 11.9222\n",
            "[814]\tvalid_0's l1: 8.95068\tvalid_0's rmse: 11.9207\n",
            "[815]\tvalid_0's l1: 8.95075\tvalid_0's rmse: 11.9193\n",
            "[816]\tvalid_0's l1: 8.95081\tvalid_0's rmse: 11.9179\n",
            "[817]\tvalid_0's l1: 8.95091\tvalid_0's rmse: 11.9165\n",
            "[818]\tvalid_0's l1: 8.95097\tvalid_0's rmse: 11.9151\n",
            "[819]\tvalid_0's l1: 8.95104\tvalid_0's rmse: 11.9137\n",
            "[820]\tvalid_0's l1: 8.9501\tvalid_0's rmse: 11.9122\n",
            "[821]\tvalid_0's l1: 8.94744\tvalid_0's rmse: 11.909\n",
            "[822]\tvalid_0's l1: 8.94479\tvalid_0's rmse: 11.9059\n",
            "[823]\tvalid_0's l1: 8.94186\tvalid_0's rmse: 11.9028\n",
            "[824]\tvalid_0's l1: 8.93923\tvalid_0's rmse: 11.8997\n",
            "[825]\tvalid_0's l1: 8.9366\tvalid_0's rmse: 11.8966\n",
            "[826]\tvalid_0's l1: 8.93479\tvalid_0's rmse: 11.8938\n",
            "[827]\tvalid_0's l1: 8.93189\tvalid_0's rmse: 11.8907\n",
            "[828]\tvalid_0's l1: 8.92928\tvalid_0's rmse: 11.8876\n",
            "[829]\tvalid_0's l1: 8.92667\tvalid_0's rmse: 11.8846\n",
            "[830]\tvalid_0's l1: 8.92407\tvalid_0's rmse: 11.8815\n",
            "[831]\tvalid_0's l1: 8.92414\tvalid_0's rmse: 11.8803\n",
            "[832]\tvalid_0's l1: 8.92416\tvalid_0's rmse: 11.8791\n",
            "[833]\tvalid_0's l1: 8.92419\tvalid_0's rmse: 11.8779\n",
            "[834]\tvalid_0's l1: 8.92421\tvalid_0's rmse: 11.8767\n",
            "[835]\tvalid_0's l1: 8.92423\tvalid_0's rmse: 11.8755\n",
            "[836]\tvalid_0's l1: 8.92426\tvalid_0's rmse: 11.8743\n",
            "[837]\tvalid_0's l1: 8.92428\tvalid_0's rmse: 11.8731\n",
            "[838]\tvalid_0's l1: 8.92431\tvalid_0's rmse: 11.8719\n",
            "[839]\tvalid_0's l1: 8.92437\tvalid_0's rmse: 11.8708\n",
            "[840]\tvalid_0's l1: 8.92439\tvalid_0's rmse: 11.8696\n",
            "[841]\tvalid_0's l1: 8.92504\tvalid_0's rmse: 11.869\n",
            "[842]\tvalid_0's l1: 8.92567\tvalid_0's rmse: 11.8683\n",
            "[843]\tvalid_0's l1: 8.92631\tvalid_0's rmse: 11.8677\n",
            "[844]\tvalid_0's l1: 8.92695\tvalid_0's rmse: 11.8671\n",
            "[845]\tvalid_0's l1: 8.92758\tvalid_0's rmse: 11.8664\n",
            "[846]\tvalid_0's l1: 8.92821\tvalid_0's rmse: 11.8658\n",
            "[847]\tvalid_0's l1: 8.92884\tvalid_0's rmse: 11.8652\n",
            "[848]\tvalid_0's l1: 8.92947\tvalid_0's rmse: 11.8646\n",
            "[849]\tvalid_0's l1: 8.9301\tvalid_0's rmse: 11.864\n",
            "[850]\tvalid_0's l1: 8.93073\tvalid_0's rmse: 11.8634\n",
            "[851]\tvalid_0's l1: 8.93338\tvalid_0's rmse: 11.8699\n",
            "[852]\tvalid_0's l1: 8.93603\tvalid_0's rmse: 11.8764\n",
            "[853]\tvalid_0's l1: 8.93867\tvalid_0's rmse: 11.8829\n",
            "[854]\tvalid_0's l1: 8.94131\tvalid_0's rmse: 11.8894\n",
            "[855]\tvalid_0's l1: 8.94394\tvalid_0's rmse: 11.8958\n",
            "[856]\tvalid_0's l1: 8.94656\tvalid_0's rmse: 11.9023\n",
            "[857]\tvalid_0's l1: 8.94918\tvalid_0's rmse: 11.9088\n",
            "[858]\tvalid_0's l1: 8.95179\tvalid_0's rmse: 11.9152\n",
            "[859]\tvalid_0's l1: 8.94961\tvalid_0's rmse: 11.9135\n",
            "[860]\tvalid_0's l1: 8.95281\tvalid_0's rmse: 11.9202\n",
            "[861]\tvalid_0's l1: 8.95635\tvalid_0's rmse: 11.9276\n",
            "[862]\tvalid_0's l1: 8.95987\tvalid_0's rmse: 11.935\n",
            "[863]\tvalid_0's l1: 8.96339\tvalid_0's rmse: 11.9423\n",
            "[864]\tvalid_0's l1: 8.9669\tvalid_0's rmse: 11.9497\n",
            "[865]\tvalid_0's l1: 8.97041\tvalid_0's rmse: 11.9571\n",
            "[866]\tvalid_0's l1: 8.9739\tvalid_0's rmse: 11.9644\n",
            "[867]\tvalid_0's l1: 8.9754\tvalid_0's rmse: 11.9716\n",
            "[868]\tvalid_0's l1: 8.97888\tvalid_0's rmse: 11.9789\n",
            "[869]\tvalid_0's l1: 8.98236\tvalid_0's rmse: 11.9862\n",
            "[870]\tvalid_0's l1: 8.98582\tvalid_0's rmse: 11.9935\n",
            "[871]\tvalid_0's l1: 8.98881\tvalid_0's rmse: 12.0002\n",
            "[872]\tvalid_0's l1: 8.99179\tvalid_0's rmse: 12.0068\n",
            "[873]\tvalid_0's l1: 8.99477\tvalid_0's rmse: 12.0134\n",
            "[874]\tvalid_0's l1: 8.99839\tvalid_0's rmse: 12.0203\n",
            "[875]\tvalid_0's l1: 9.00135\tvalid_0's rmse: 12.0269\n",
            "[876]\tvalid_0's l1: 9.00495\tvalid_0's rmse: 12.0338\n",
            "[877]\tvalid_0's l1: 9.00854\tvalid_0's rmse: 12.0406\n",
            "[878]\tvalid_0's l1: 9.01148\tvalid_0's rmse: 12.0472\n",
            "[879]\tvalid_0's l1: 9.01506\tvalid_0's rmse: 12.054\n",
            "[880]\tvalid_0's l1: 9.01798\tvalid_0's rmse: 12.0606\n",
            "[881]\tvalid_0's l1: 9.01568\tvalid_0's rmse: 12.0579\n",
            "[882]\tvalid_0's l1: 9.01439\tvalid_0's rmse: 12.0555\n",
            "[883]\tvalid_0's l1: 9.01209\tvalid_0's rmse: 12.0528\n",
            "[884]\tvalid_0's l1: 9.00981\tvalid_0's rmse: 12.0501\n",
            "[885]\tvalid_0's l1: 9.00752\tvalid_0's rmse: 12.0474\n",
            "[886]\tvalid_0's l1: 9.00542\tvalid_0's rmse: 12.0444\n",
            "[887]\tvalid_0's l1: 9.00315\tvalid_0's rmse: 12.0418\n",
            "[888]\tvalid_0's l1: 9.00088\tvalid_0's rmse: 12.0391\n",
            "[889]\tvalid_0's l1: 8.99862\tvalid_0's rmse: 12.0364\n",
            "[890]\tvalid_0's l1: 8.99636\tvalid_0's rmse: 12.0338\n",
            "[891]\tvalid_0's l1: 8.99445\tvalid_0's rmse: 12.0316\n",
            "[892]\tvalid_0's l1: 8.99254\tvalid_0's rmse: 12.0294\n",
            "[893]\tvalid_0's l1: 8.9907\tvalid_0's rmse: 12.0272\n",
            "[894]\tvalid_0's l1: 8.9888\tvalid_0's rmse: 12.025\n",
            "[895]\tvalid_0's l1: 8.98777\tvalid_0's rmse: 12.0231\n",
            "[896]\tvalid_0's l1: 8.98588\tvalid_0's rmse: 12.0209\n",
            "[897]\tvalid_0's l1: 8.98399\tvalid_0's rmse: 12.0188\n",
            "[898]\tvalid_0's l1: 8.98189\tvalid_0's rmse: 12.0168\n",
            "[899]\tvalid_0's l1: 8.98001\tvalid_0's rmse: 12.0147\n",
            "[900]\tvalid_0's l1: 8.97814\tvalid_0's rmse: 12.0125\n",
            "[901]\tvalid_0's l1: 8.97562\tvalid_0's rmse: 12.0101\n",
            "[902]\tvalid_0's l1: 8.97311\tvalid_0's rmse: 12.0077\n",
            "[903]\tvalid_0's l1: 8.97122\tvalid_0's rmse: 12.0058\n",
            "[904]\tvalid_0's l1: 8.96871\tvalid_0's rmse: 12.0035\n",
            "[905]\tvalid_0's l1: 8.96621\tvalid_0's rmse: 12.0011\n",
            "[906]\tvalid_0's l1: 8.96372\tvalid_0's rmse: 11.9987\n",
            "[907]\tvalid_0's l1: 8.96123\tvalid_0's rmse: 11.9964\n",
            "[908]\tvalid_0's l1: 8.95875\tvalid_0's rmse: 11.994\n",
            "[909]\tvalid_0's l1: 8.95627\tvalid_0's rmse: 11.9917\n",
            "[910]\tvalid_0's l1: 8.9538\tvalid_0's rmse: 11.9894\n",
            "[911]\tvalid_0's l1: 8.95345\tvalid_0's rmse: 11.9877\n",
            "[912]\tvalid_0's l1: 8.9531\tvalid_0's rmse: 11.986\n",
            "[913]\tvalid_0's l1: 8.95345\tvalid_0's rmse: 11.9846\n",
            "[914]\tvalid_0's l1: 8.9538\tvalid_0's rmse: 11.9832\n",
            "[915]\tvalid_0's l1: 8.95415\tvalid_0's rmse: 11.9817\n",
            "[916]\tvalid_0's l1: 8.9538\tvalid_0's rmse: 11.9801\n",
            "[917]\tvalid_0's l1: 8.95171\tvalid_0's rmse: 11.9777\n",
            "[918]\tvalid_0's l1: 8.95136\tvalid_0's rmse: 11.976\n",
            "[919]\tvalid_0's l1: 8.94928\tvalid_0's rmse: 11.9737\n",
            "[920]\tvalid_0's l1: 8.94721\tvalid_0's rmse: 11.9713\n",
            "[921]\tvalid_0's l1: 8.94737\tvalid_0's rmse: 11.9702\n",
            "[922]\tvalid_0's l1: 8.94752\tvalid_0's rmse: 11.9692\n",
            "[923]\tvalid_0's l1: 8.94791\tvalid_0's rmse: 11.9686\n",
            "[924]\tvalid_0's l1: 8.94829\tvalid_0's rmse: 11.968\n",
            "[925]\tvalid_0's l1: 8.94844\tvalid_0's rmse: 11.967\n",
            "[926]\tvalid_0's l1: 8.9486\tvalid_0's rmse: 11.966\n",
            "[927]\tvalid_0's l1: 8.94875\tvalid_0's rmse: 11.965\n",
            "[928]\tvalid_0's l1: 8.94913\tvalid_0's rmse: 11.9644\n",
            "[929]\tvalid_0's l1: 8.94929\tvalid_0's rmse: 11.9634\n",
            "[930]\tvalid_0's l1: 8.94944\tvalid_0's rmse: 11.9624\n",
            "[931]\tvalid_0's l1: 8.94908\tvalid_0's rmse: 11.9612\n",
            "[932]\tvalid_0's l1: 8.94913\tvalid_0's rmse: 11.9601\n",
            "[933]\tvalid_0's l1: 8.94919\tvalid_0's rmse: 11.959\n",
            "[934]\tvalid_0's l1: 8.94924\tvalid_0's rmse: 11.9579\n",
            "[935]\tvalid_0's l1: 8.9493\tvalid_0's rmse: 11.9569\n",
            "[936]\tvalid_0's l1: 8.94935\tvalid_0's rmse: 11.9558\n",
            "[937]\tvalid_0's l1: 8.94941\tvalid_0's rmse: 11.9547\n",
            "[938]\tvalid_0's l1: 8.94946\tvalid_0's rmse: 11.9536\n",
            "[939]\tvalid_0's l1: 8.94952\tvalid_0's rmse: 11.9526\n",
            "[940]\tvalid_0's l1: 8.94957\tvalid_0's rmse: 11.9515\n",
            "[941]\tvalid_0's l1: 8.95006\tvalid_0's rmse: 11.9503\n",
            "[942]\tvalid_0's l1: 8.95055\tvalid_0's rmse: 11.949\n",
            "[943]\tvalid_0's l1: 8.95103\tvalid_0's rmse: 11.9477\n",
            "[944]\tvalid_0's l1: 8.95151\tvalid_0's rmse: 11.9465\n",
            "[945]\tvalid_0's l1: 8.95199\tvalid_0's rmse: 11.9453\n",
            "[946]\tvalid_0's l1: 8.95248\tvalid_0's rmse: 11.944\n",
            "[947]\tvalid_0's l1: 8.95296\tvalid_0's rmse: 11.9428\n",
            "[948]\tvalid_0's l1: 8.95343\tvalid_0's rmse: 11.9416\n",
            "[949]\tvalid_0's l1: 8.95391\tvalid_0's rmse: 11.9404\n",
            "[950]\tvalid_0's l1: 8.95361\tvalid_0's rmse: 11.9392\n",
            "[951]\tvalid_0's l1: 8.95391\tvalid_0's rmse: 11.9386\n",
            "[952]\tvalid_0's l1: 8.95421\tvalid_0's rmse: 11.9381\n",
            "[953]\tvalid_0's l1: 8.9531\tvalid_0's rmse: 11.9373\n",
            "[954]\tvalid_0's l1: 8.9534\tvalid_0's rmse: 11.9368\n",
            "[955]\tvalid_0's l1: 8.9537\tvalid_0's rmse: 11.9362\n",
            "[956]\tvalid_0's l1: 8.95399\tvalid_0's rmse: 11.9357\n",
            "[957]\tvalid_0's l1: 8.95429\tvalid_0's rmse: 11.9352\n",
            "[958]\tvalid_0's l1: 8.95459\tvalid_0's rmse: 11.9346\n",
            "[959]\tvalid_0's l1: 8.95552\tvalid_0's rmse: 11.9343\n",
            "[960]\tvalid_0's l1: 8.95581\tvalid_0's rmse: 11.9338\n",
            "[961]\tvalid_0's l1: 8.95597\tvalid_0's rmse: 11.9339\n",
            "[962]\tvalid_0's l1: 8.95813\tvalid_0's rmse: 11.9395\n",
            "[963]\tvalid_0's l1: 8.9603\tvalid_0's rmse: 11.945\n",
            "[964]\tvalid_0's l1: 8.96246\tvalid_0's rmse: 11.9506\n",
            "[965]\tvalid_0's l1: 8.96462\tvalid_0's rmse: 11.9562\n",
            "[966]\tvalid_0's l1: 8.96473\tvalid_0's rmse: 11.9563\n",
            "[967]\tvalid_0's l1: 8.96688\tvalid_0's rmse: 11.9618\n",
            "[968]\tvalid_0's l1: 8.96903\tvalid_0's rmse: 11.9674\n",
            "[969]\tvalid_0's l1: 8.97117\tvalid_0's rmse: 11.9729\n",
            "[970]\tvalid_0's l1: 8.9733\tvalid_0's rmse: 11.9785\n",
            "[971]\tvalid_0's l1: 8.9728\tvalid_0's rmse: 11.9773\n",
            "[972]\tvalid_0's l1: 8.97504\tvalid_0's rmse: 11.9829\n",
            "[973]\tvalid_0's l1: 8.97777\tvalid_0's rmse: 11.9888\n",
            "[974]\tvalid_0's l1: 8.9805\tvalid_0's rmse: 11.9946\n",
            "[975]\tvalid_0's l1: 8.98272\tvalid_0's rmse: 12.0002\n",
            "[976]\tvalid_0's l1: 8.98494\tvalid_0's rmse: 12.0059\n",
            "[977]\tvalid_0's l1: 8.98716\tvalid_0's rmse: 12.0115\n",
            "[978]\tvalid_0's l1: 8.98664\tvalid_0's rmse: 12.0103\n",
            "[979]\tvalid_0's l1: 8.98885\tvalid_0's rmse: 12.0159\n",
            "[980]\tvalid_0's l1: 8.99105\tvalid_0's rmse: 12.0215\n",
            "[981]\tvalid_0's l1: 8.98967\tvalid_0's rmse: 12.02\n",
            "[982]\tvalid_0's l1: 8.98873\tvalid_0's rmse: 12.0184\n",
            "[983]\tvalid_0's l1: 8.98778\tvalid_0's rmse: 12.0167\n",
            "[984]\tvalid_0's l1: 8.98684\tvalid_0's rmse: 12.0151\n",
            "[985]\tvalid_0's l1: 8.9859\tvalid_0's rmse: 12.0135\n",
            "[986]\tvalid_0's l1: 8.98496\tvalid_0's rmse: 12.0118\n",
            "[987]\tvalid_0's l1: 8.98484\tvalid_0's rmse: 12.0105\n",
            "[988]\tvalid_0's l1: 8.98361\tvalid_0's rmse: 12.0089\n",
            "[989]\tvalid_0's l1: 8.98267\tvalid_0's rmse: 12.0073\n",
            "[990]\tvalid_0's l1: 8.98174\tvalid_0's rmse: 12.0057\n",
            "[991]\tvalid_0's l1: 8.98101\tvalid_0's rmse: 12.0041\n",
            "[992]\tvalid_0's l1: 8.98027\tvalid_0's rmse: 12.0026\n",
            "[993]\tvalid_0's l1: 8.97954\tvalid_0's rmse: 12.001\n",
            "[994]\tvalid_0's l1: 8.97881\tvalid_0's rmse: 11.9995\n",
            "[995]\tvalid_0's l1: 8.97807\tvalid_0's rmse: 11.998\n",
            "[996]\tvalid_0's l1: 8.97735\tvalid_0's rmse: 11.9965\n",
            "[997]\tvalid_0's l1: 8.97662\tvalid_0's rmse: 11.9949\n",
            "[998]\tvalid_0's l1: 8.97589\tvalid_0's rmse: 11.9934\n",
            "[999]\tvalid_0's l1: 8.97517\tvalid_0's rmse: 11.9919\n",
            "[1000]\tvalid_0's l1: 8.97444\tvalid_0's rmse: 11.9904\n",
            "[1001]\tvalid_0's l1: 8.97422\tvalid_0's rmse: 11.9895\n",
            "[1002]\tvalid_0's l1: 8.97399\tvalid_0's rmse: 11.9887\n",
            "[1003]\tvalid_0's l1: 8.97376\tvalid_0's rmse: 11.9878\n",
            "[1004]\tvalid_0's l1: 8.97472\tvalid_0's rmse: 11.9874\n",
            "[1005]\tvalid_0's l1: 8.97449\tvalid_0's rmse: 11.9866\n",
            "[1006]\tvalid_0's l1: 8.97427\tvalid_0's rmse: 11.9857\n",
            "[1007]\tvalid_0's l1: 8.97404\tvalid_0's rmse: 11.9849\n",
            "[1008]\tvalid_0's l1: 8.97381\tvalid_0's rmse: 11.984\n",
            "[1009]\tvalid_0's l1: 8.97359\tvalid_0's rmse: 11.9832\n",
            "[1010]\tvalid_0's l1: 8.97336\tvalid_0's rmse: 11.9823\n",
            "[1011]\tvalid_0's l1: 8.97259\tvalid_0's rmse: 11.9804\n",
            "[1012]\tvalid_0's l1: 8.97181\tvalid_0's rmse: 11.9784\n",
            "[1013]\tvalid_0's l1: 8.97104\tvalid_0's rmse: 11.9765\n",
            "[1014]\tvalid_0's l1: 8.96905\tvalid_0's rmse: 11.9744\n",
            "[1015]\tvalid_0's l1: 8.96662\tvalid_0's rmse: 11.9716\n",
            "[1016]\tvalid_0's l1: 8.96585\tvalid_0's rmse: 11.9696\n",
            "[1017]\tvalid_0's l1: 8.96305\tvalid_0's rmse: 11.9668\n",
            "[1018]\tvalid_0's l1: 8.96229\tvalid_0's rmse: 11.9649\n",
            "[1019]\tvalid_0's l1: 8.96154\tvalid_0's rmse: 11.963\n",
            "[1020]\tvalid_0's l1: 8.95875\tvalid_0's rmse: 11.9601\n",
            "[1021]\tvalid_0's l1: 8.95971\tvalid_0's rmse: 11.9594\n",
            "[1022]\tvalid_0's l1: 8.96067\tvalid_0's rmse: 11.9588\n",
            "[1023]\tvalid_0's l1: 8.96159\tvalid_0's rmse: 11.9582\n",
            "[1024]\tvalid_0's l1: 8.96255\tvalid_0's rmse: 11.9575\n",
            "[1025]\tvalid_0's l1: 8.96351\tvalid_0's rmse: 11.9569\n",
            "[1026]\tvalid_0's l1: 8.96447\tvalid_0's rmse: 11.9563\n",
            "[1027]\tvalid_0's l1: 8.96542\tvalid_0's rmse: 11.9556\n",
            "[1028]\tvalid_0's l1: 8.96637\tvalid_0's rmse: 11.955\n",
            "[1029]\tvalid_0's l1: 8.96732\tvalid_0's rmse: 11.9544\n",
            "[1030]\tvalid_0's l1: 8.96827\tvalid_0's rmse: 11.9538\n",
            "[1031]\tvalid_0's l1: 8.96852\tvalid_0's rmse: 11.9526\n",
            "[1032]\tvalid_0's l1: 8.96877\tvalid_0's rmse: 11.9514\n",
            "[1033]\tvalid_0's l1: 8.96901\tvalid_0's rmse: 11.9502\n",
            "[1034]\tvalid_0's l1: 8.96831\tvalid_0's rmse: 11.949\n",
            "[1035]\tvalid_0's l1: 8.96856\tvalid_0's rmse: 11.9478\n",
            "[1036]\tvalid_0's l1: 8.96881\tvalid_0's rmse: 11.9467\n",
            "[1037]\tvalid_0's l1: 8.96905\tvalid_0's rmse: 11.9455\n",
            "[1038]\tvalid_0's l1: 8.9693\tvalid_0's rmse: 11.9443\n",
            "[1039]\tvalid_0's l1: 8.96954\tvalid_0's rmse: 11.9432\n",
            "[1040]\tvalid_0's l1: 8.96979\tvalid_0's rmse: 11.942\n",
            "[1041]\tvalid_0's l1: 8.97035\tvalid_0's rmse: 11.9414\n",
            "[1042]\tvalid_0's l1: 8.97093\tvalid_0's rmse: 11.9408\n",
            "[1043]\tvalid_0's l1: 8.97151\tvalid_0's rmse: 11.9403\n",
            "[1044]\tvalid_0's l1: 8.97207\tvalid_0's rmse: 11.9396\n",
            "[1045]\tvalid_0's l1: 8.97262\tvalid_0's rmse: 11.939\n",
            "[1046]\tvalid_0's l1: 8.9732\tvalid_0's rmse: 11.9384\n",
            "[1047]\tvalid_0's l1: 8.97375\tvalid_0's rmse: 11.9378\n",
            "[1048]\tvalid_0's l1: 8.97431\tvalid_0's rmse: 11.9372\n",
            "[1049]\tvalid_0's l1: 8.97486\tvalid_0's rmse: 11.9365\n",
            "[1050]\tvalid_0's l1: 8.97442\tvalid_0's rmse: 11.9353\n",
            "[1051]\tvalid_0's l1: 8.97242\tvalid_0's rmse: 11.9325\n",
            "[1052]\tvalid_0's l1: 8.97044\tvalid_0's rmse: 11.9297\n",
            "[1053]\tvalid_0's l1: 8.96846\tvalid_0's rmse: 11.927\n",
            "[1054]\tvalid_0's l1: 8.96648\tvalid_0's rmse: 11.9242\n",
            "[1055]\tvalid_0's l1: 8.9645\tvalid_0's rmse: 11.9215\n",
            "[1056]\tvalid_0's l1: 8.96253\tvalid_0's rmse: 11.9188\n",
            "[1057]\tvalid_0's l1: 8.95991\tvalid_0's rmse: 11.916\n",
            "[1058]\tvalid_0's l1: 8.95846\tvalid_0's rmse: 11.9135\n",
            "[1059]\tvalid_0's l1: 8.95702\tvalid_0's rmse: 11.911\n",
            "[1060]\tvalid_0's l1: 8.95506\tvalid_0's rmse: 11.9083\n",
            "[1061]\tvalid_0's l1: 8.95482\tvalid_0's rmse: 11.9072\n",
            "[1062]\tvalid_0's l1: 8.95457\tvalid_0's rmse: 11.9061\n",
            "[1063]\tvalid_0's l1: 8.95434\tvalid_0's rmse: 11.905\n",
            "[1064]\tvalid_0's l1: 8.95409\tvalid_0's rmse: 11.9039\n",
            "[1065]\tvalid_0's l1: 8.95385\tvalid_0's rmse: 11.9028\n",
            "[1066]\tvalid_0's l1: 8.95361\tvalid_0's rmse: 11.9017\n",
            "[1067]\tvalid_0's l1: 8.95338\tvalid_0's rmse: 11.9006\n",
            "[1068]\tvalid_0's l1: 8.95315\tvalid_0's rmse: 11.8995\n",
            "[1069]\tvalid_0's l1: 8.9529\tvalid_0's rmse: 11.8984\n",
            "[1070]\tvalid_0's l1: 8.95266\tvalid_0's rmse: 11.8974\n",
            "[1071]\tvalid_0's l1: 8.95218\tvalid_0's rmse: 11.8963\n",
            "[1072]\tvalid_0's l1: 8.9517\tvalid_0's rmse: 11.8952\n",
            "[1073]\tvalid_0's l1: 8.95122\tvalid_0's rmse: 11.894\n",
            "[1074]\tvalid_0's l1: 8.95074\tvalid_0's rmse: 11.8929\n",
            "[1075]\tvalid_0's l1: 8.94924\tvalid_0's rmse: 11.8915\n",
            "[1076]\tvalid_0's l1: 8.94836\tvalid_0's rmse: 11.8905\n",
            "[1077]\tvalid_0's l1: 8.94789\tvalid_0's rmse: 11.8894\n",
            "[1078]\tvalid_0's l1: 8.94741\tvalid_0's rmse: 11.8883\n",
            "[1079]\tvalid_0's l1: 8.94694\tvalid_0's rmse: 11.8872\n",
            "[1080]\tvalid_0's l1: 8.94647\tvalid_0's rmse: 11.8861\n",
            "[1081]\tvalid_0's l1: 8.94558\tvalid_0's rmse: 11.8852\n",
            "[1082]\tvalid_0's l1: 8.94583\tvalid_0's rmse: 11.885\n",
            "[1083]\tvalid_0's l1: 8.94608\tvalid_0's rmse: 11.8849\n",
            "[1084]\tvalid_0's l1: 8.94633\tvalid_0's rmse: 11.8847\n",
            "[1085]\tvalid_0's l1: 8.94657\tvalid_0's rmse: 11.8846\n",
            "[1086]\tvalid_0's l1: 8.94682\tvalid_0's rmse: 11.8844\n",
            "[1087]\tvalid_0's l1: 8.94707\tvalid_0's rmse: 11.8843\n",
            "[1088]\tvalid_0's l1: 8.94731\tvalid_0's rmse: 11.8841\n",
            "[1089]\tvalid_0's l1: 8.94825\tvalid_0's rmse: 11.8843\n",
            "[1090]\tvalid_0's l1: 8.94849\tvalid_0's rmse: 11.8842\n",
            "Early stopping, best iteration is:\n",
            "[90]\tvalid_0's l1: 8.61056\tvalid_0's rmse: 11.1106\n"
          ],
          "name": "stdout"
        },
        {
          "output_type": "execute_result",
          "data": {
            "text/plain": [
              "LGBMRegressor(bagging_fraction=0.7, bagging_freq=10, boosting_type='rf',\n",
              "              class_weight=None, colsample_bytree=1.0, feature_fraction=0.9,\n",
              "              importance_type='split', learning_rate=0.005, max_bin=255,\n",
              "              max_depth=4, metric=['rmse', 'l1'], min_child_samples=20,\n",
              "              min_child_weight=0.001, min_split_gain=0.0, n_estimators=3000,\n",
              "              n_jobs=-1, num_iterations=10000, num_leaves=31,\n",
              "              objective='regression', random_state=None, reg_alpha=0.0,\n",
              "              reg_lambda=0.0, silent=True, subsample=1.0,\n",
              "              subsample_for_bin=200000, subsample_freq=0, task='train',\n",
              "              verbose=0)"
            ]
          },
          "metadata": {
            "tags": []
          },
          "execution_count": 23
        }
      ]
    },
    {
      "cell_type": "code",
      "metadata": {
        "id": "10PX77vNvb9N"
      },
      "source": [
        "  light_gbm_pred = light_gbm.predict(X_train, num_iteration=light_gbm.best_iteration_)"
      ],
      "execution_count": 44,
      "outputs": []
    },
    {
      "cell_type": "code",
      "metadata": {
        "colab": {
          "base_uri": "https://localhost:8080/"
        },
        "id": "JnKBmMAQwzgK",
        "outputId": "16e72045-22fa-49a0-ddff-bd54085ef920"
      },
      "source": [
        "print(light_gbm_pred[:5])\n",
        "print(y_train[:5])"
      ],
      "execution_count": 46,
      "outputs": [
        {
          "output_type": "stream",
          "text": [
            "[146.28611565 157.13515669 173.1938264  201.46039823 201.46039823]\n",
            "131    142.064\n",
            "58     157.527\n",
            "190    175.762\n",
            "219    200.870\n",
            "250    232.629\n",
            "Name: CSUSHPISA, dtype: float64\n"
          ],
          "name": "stdout"
        }
      ]
    },
    {
      "cell_type": "code",
      "metadata": {
        "id": "h3DBecojv-n0"
      },
      "source": [
        "light_gbm_test_pred = light_gbm.predict(test_data, num_iteration=light_gbm.best_iteration_)"
      ],
      "execution_count": 47,
      "outputs": []
    },
    {
      "cell_type": "code",
      "metadata": {
        "colab": {
          "base_uri": "https://localhost:8080/"
        },
        "id": "xccTVwBewFWX",
        "outputId": "33a41a16-0bc7-474a-b201-f8da6be11b8f"
      },
      "source": [
        "print(light_gbm_test_pred[:5])\n",
        "print(actual_price_test[:5])"
      ],
      "execution_count": 48,
      "outputs": [
        {
          "output_type": "stream",
          "text": [
            "[146.28611565 172.41620822 162.57614862 174.79876126 124.26171576]\n",
            "[140.358 176.627 174.442 173.858 104.424]\n"
          ],
          "name": "stdout"
        }
      ]
    },
    {
      "cell_type": "markdown",
      "metadata": {
        "id": "mya9vRLiNlZh"
      },
      "source": [
        "Evaluating LightGBM using two metrics:\n",
        "\n",
        "\n",
        "1.   Root Mean Square Error\n",
        "2.   Root Mean Square Log Error\n",
        "\n"
      ]
    },
    {
      "cell_type": "code",
      "metadata": {
        "colab": {
          "base_uri": "https://localhost:8080/"
        },
        "id": "rNzrUHbXN1N-",
        "outputId": "15c3789f-7d86-4731-f818-e76c66ecee12"
      },
      "source": [
        "print('The RMSE of prediction is:', round(mean_squared_error(light_gbm_pred, y_train) ** 0.5, 5))\n",
        "print('The RMSLE of prediction is:', round(mean_squared_log_error(light_gbm_pred, y_train) ** 0.5, 5))    "
      ],
      "execution_count": 52,
      "outputs": [
        {
          "output_type": "stream",
          "text": [
            "The RMSE of prediction is: 9.8258\n",
            "The RMSLE of prediction is: 0.06017\n"
          ],
          "name": "stdout"
        }
      ]
    },
    {
      "cell_type": "markdown",
      "metadata": {
        "id": "Jbo0G12lNdzR"
      },
      "source": [
        "Cross validation with k folds"
      ]
    },
    {
      "cell_type": "code",
      "metadata": {
        "id": "e4Z9iKNtHPZe"
      },
      "source": [
        "n_folds = 5\n",
        "\n",
        "def rmsle_cv(model):\n",
        "    kf = KFold(n_folds, shuffle = True, random_state = 42).get_n_splits(train_data.values)\n",
        "    rmse = np.sqrt(-cross_val_score(model, train_data.values, actual_price_train, scoring = \"neg_mean_squared_error\", cv = kf))\n",
        "    return(rmse)"
      ],
      "execution_count": 53,
      "outputs": []
    },
    {
      "cell_type": "markdown",
      "metadata": {
        "id": "BxwF-LAHQX7Y"
      },
      "source": [
        "***2) GBM***"
      ]
    },
    {
      "cell_type": "code",
      "metadata": {
        "id": "meChT-MzPqnv"
      },
      "source": [
        "model_gbm = GradientBoostingRegressor(n_estimators = 3000, learning_rate = 0.05,\n",
        "                                   max_depth = 4, max_features = \"sqrt\",\n",
        "                                   min_samples_leaf = 15, min_samples_split = 10, \n",
        "                                   loss = \"huber\", random_state = 5)\n"
      ],
      "execution_count": 60,
      "outputs": []
    },
    {
      "cell_type": "code",
      "metadata": {
        "colab": {
          "base_uri": "https://localhost:8080/"
        },
        "id": "Y4fcnvZhHqos",
        "outputId": "2d64a0d6-7e30-424c-b8f3-0f10dd3be935"
      },
      "source": [
        "score = rmsle_cv(model_gbm)\n",
        "print(\"Gradient Boosting score: {:.4f} ({:.4f})\\n\".format(score.mean(), score.std()))"
      ],
      "execution_count": 61,
      "outputs": [
        {
          "output_type": "stream",
          "text": [
            "Gradient Boosting score: 2.6086 (0.4236)\n",
            "\n"
          ],
          "name": "stdout"
        }
      ]
    },
    {
      "cell_type": "code",
      "metadata": {
        "colab": {
          "base_uri": "https://localhost:8080/"
        },
        "id": "FQg-kWlNK41w",
        "outputId": "7225c59e-3fa6-4201-e4ac-16ad1bdeb15f"
      },
      "source": [
        "model_gbm.fit(train_data, actual_price_train)\n",
        "gbm_train_pred = model_gbm.predict(train_data)\n",
        "gbm_pred = model_gbm.predict(test_data)\n",
        "print(actual_price_test[:5])\n",
        "print(gbm_pred[:5])"
      ],
      "execution_count": 65,
      "outputs": [
        {
          "output_type": "stream",
          "text": [
            "[140.358 176.627 174.442 173.858 104.424]\n",
            "[141.32808548 175.10897845 171.27324526 174.59802178 104.63541532]\n"
          ],
          "name": "stdout"
        }
      ]
    },
    {
      "cell_type": "markdown",
      "metadata": {
        "id": "FbwzYjR9R7_r"
      },
      "source": [
        "Evaluating GBM using RMSE and RMSLE."
      ]
    },
    {
      "cell_type": "code",
      "metadata": {
        "colab": {
          "base_uri": "https://localhost:8080/"
        },
        "id": "GkUIol0ZRLjJ",
        "outputId": "61e20b35-6150-402b-8872-7fe531524cc2"
      },
      "source": [
        "print(rmsle(actual_price_train, gbm_train_pred))"
      ],
      "execution_count": 66,
      "outputs": [
        {
          "output_type": "stream",
          "text": [
            "The RMSE is:  0.8336210575849216\n",
            "The RMSLE is:  0.004307684990707144\n",
            "None\n"
          ],
          "name": "stdout"
        }
      ]
    },
    {
      "cell_type": "code",
      "metadata": {
        "colab": {
          "base_uri": "https://localhost:8080/"
        },
        "id": "lIw7QomwK_LO",
        "outputId": "10d121ca-d2a0-4017-e4fd-fc25d24179c8"
      },
      "source": [
        "print(gbm_pred[:5])\n",
        "print(actual_price_test[:5])"
      ],
      "execution_count": 68,
      "outputs": [
        {
          "output_type": "stream",
          "text": [
            "[141.32808548 175.10897845 171.27324526 174.59802178 104.63541532]\n",
            "[140.358 176.627 174.442 173.858 104.424]\n"
          ],
          "name": "stdout"
        }
      ]
    },
    {
      "cell_type": "markdown",
      "metadata": {
        "id": "oiLAgweSPsBE"
      },
      "source": [
        "***3) XGBoost***"
      ]
    },
    {
      "cell_type": "code",
      "metadata": {
        "id": "Y-ZJ7Vl6HkEJ"
      },
      "source": [
        "model_xgb = xgb.XGBRegressor(colsample_bytree = 0.2, gamma = 0.0 ,\n",
        "                             learning_rate = 0.05, max_depth = 6, \n",
        "                             min_child_weight = 1.5, n_estimators = 7200,\n",
        "                             reg_alpha = 0.9, reg_lambda = 0.6,\n",
        "                             subsample = 0.2,seed = 42,\n",
        "                             random_state = 7)\n",
        "\n"
      ],
      "execution_count": 55,
      "outputs": []
    },
    {
      "cell_type": "code",
      "metadata": {
        "colab": {
          "base_uri": "https://localhost:8080/"
        },
        "id": "gJTA7gBTP1jI",
        "outputId": "40bb4436-39e5-427c-bb12-58ccc48f4d9e"
      },
      "source": [
        "score = rmsle_cv(model_xgb)\n",
        "print(\"XGBoost score: {:.4f} ({:.4f})\\n\".format(score.mean(), score.std()))"
      ],
      "execution_count": 56,
      "outputs": [
        {
          "output_type": "stream",
          "text": [
            "[17:11:07] WARNING: /workspace/src/objective/regression_obj.cu:152: reg:linear is now deprecated in favor of reg:squarederror.\n",
            "[17:11:08] WARNING: /workspace/src/objective/regression_obj.cu:152: reg:linear is now deprecated in favor of reg:squarederror.\n",
            "[17:11:08] WARNING: /workspace/src/objective/regression_obj.cu:152: reg:linear is now deprecated in favor of reg:squarederror.\n",
            "[17:11:09] WARNING: /workspace/src/objective/regression_obj.cu:152: reg:linear is now deprecated in favor of reg:squarederror.\n",
            "[17:11:10] WARNING: /workspace/src/objective/regression_obj.cu:152: reg:linear is now deprecated in favor of reg:squarederror.\n",
            "XGBoost score: 2.3470 (0.6070)\n",
            "\n"
          ],
          "name": "stdout"
        }
      ]
    },
    {
      "cell_type": "markdown",
      "metadata": {
        "id": "EelujdY3QPVQ"
      },
      "source": [
        "Fitting XGBoost model and evaluating the results with RMSE and RMSLE."
      ]
    },
    {
      "cell_type": "code",
      "metadata": {
        "colab": {
          "base_uri": "https://localhost:8080/"
        },
        "id": "wG6CPZRsQBO9",
        "outputId": "49baf952-accf-4061-a5ee-c9d6a7521dfe"
      },
      "source": [
        "model_xgb.fit(train_data, actual_price_train)\n",
        "xgb_train_pred = model_xgb.predict(train_data)\n",
        "xgb_pred =model_xgb.predict(test_data)\n",
        "print(rmsle(actual_price_train,xgb_train_pred ))"
      ],
      "execution_count": 59,
      "outputs": [
        {
          "output_type": "stream",
          "text": [
            "[17:12:23] WARNING: /workspace/src/objective/regression_obj.cu:152: reg:linear is now deprecated in favor of reg:squarederror.\n",
            "The RMSE is:  0.12634998953677642\n",
            "The RMSLE is:  0.0008201447103983846\n",
            "None\n"
          ],
          "name": "stdout"
        }
      ]
    },
    {
      "cell_type": "code",
      "metadata": {
        "colab": {
          "base_uri": "https://localhost:8080/"
        },
        "id": "gO3T1630QwET",
        "outputId": "985d0a05-fef9-41af-961a-16d64c060b88"
      },
      "source": [
        "print(xgb_pred[:5])\n",
        "print(actual_price_test[:5])"
      ],
      "execution_count": 63,
      "outputs": [
        {
          "output_type": "stream",
          "text": [
            "[140.52821 175.56812 172.06271 172.24843 103.83215]\n",
            "[140.358 176.627 174.442 173.858 104.424]\n"
          ],
          "name": "stdout"
        }
      ]
    },
    {
      "cell_type": "code",
      "metadata": {
        "id": "jlQrwihsLPtJ",
        "colab": {
          "base_uri": "https://localhost:8080/"
        },
        "outputId": "f4559369-0a3e-4bf5-ae61-5ca64f6ce218"
      },
      "source": [
        "trybest = ((1/2) * xgb_pred ) + ((1/2) * gbm_pred)\n",
        "print(rmsle(actual_price_test,trybest))"
      ],
      "execution_count": 69,
      "outputs": [
        {
          "output_type": "stream",
          "text": [
            "The RMSE is:  3.4752820476529913\n",
            "The RMSLE is:  0.017252544151507333\n",
            "None\n"
          ],
          "name": "stdout"
        }
      ]
    },
    {
      "cell_type": "markdown",
      "metadata": {
        "id": "qVGl3YsETGNH"
      },
      "source": [
        "# **Conclusions:**\n",
        "\n",
        "\n",
        "1. Evaluation with Light GBM had RMSE as 9.82 which is really poor performance , due to dataset being for time period 2000-2020. \n",
        "2.   Evaluation with GBM had RMSE as 0.83 which is far better from LightGBM in this case particularly but not good enough and it takes more time for training.\n",
        "3. Then evaluated with XGBoost model using RMSE had 0.12 which is quite good.\n",
        "\n",
        "XGBoost is more regularized form of Gradient Boosting. XGBoost uses advanced regularization (L1 & L2), which improves model generalization capabilities. XGBoost delivers high performance as compared to Gradient Boosting. Its training is very fast too.\n",
        "\n",
        "\n"
      ]
    },
    {
      "cell_type": "code",
      "metadata": {
        "colab": {
          "base_uri": "https://localhost:8080/",
          "height": 665
        },
        "id": "X8qFjCDyLR4q",
        "outputId": "15c9c829-bb02-47bc-bf6f-2be588f6a04c"
      },
      "source": [
        "submission = pd.DataFrame({\"Id\": test_id, \"HPI\": xgb_pred, \"Real_HPI\": actual_price_test})\n",
        "submission.head(20)"
      ],
      "execution_count": 71,
      "outputs": [
        {
          "output_type": "execute_result",
          "data": {
            "text/html": [
              "<div>\n",
              "<style scoped>\n",
              "    .dataframe tbody tr th:only-of-type {\n",
              "        vertical-align: middle;\n",
              "    }\n",
              "\n",
              "    .dataframe tbody tr th {\n",
              "        vertical-align: top;\n",
              "    }\n",
              "\n",
              "    .dataframe thead th {\n",
              "        text-align: right;\n",
              "    }\n",
              "</style>\n",
              "<table border=\"1\" class=\"dataframe\">\n",
              "  <thead>\n",
              "    <tr style=\"text-align: right;\">\n",
              "      <th></th>\n",
              "      <th>Id</th>\n",
              "      <th>HPI</th>\n",
              "      <th>Real_HPI</th>\n",
              "    </tr>\n",
              "  </thead>\n",
              "  <tbody>\n",
              "    <tr>\n",
              "      <th>133</th>\n",
              "      <td>02-2011</td>\n",
              "      <td>140.528214</td>\n",
              "      <td>140.358</td>\n",
              "    </tr>\n",
              "    <tr>\n",
              "      <th>93</th>\n",
              "      <td>10-2007</td>\n",
              "      <td>175.568115</td>\n",
              "      <td>176.627</td>\n",
              "    </tr>\n",
              "    <tr>\n",
              "      <th>67</th>\n",
              "      <td>08-2005</td>\n",
              "      <td>172.062714</td>\n",
              "      <td>174.442</td>\n",
              "    </tr>\n",
              "    <tr>\n",
              "      <th>188</th>\n",
              "      <td>09-2015</td>\n",
              "      <td>172.248428</td>\n",
              "      <td>173.858</td>\n",
              "    </tr>\n",
              "    <tr>\n",
              "      <th>5</th>\n",
              "      <td>06-2000</td>\n",
              "      <td>103.832153</td>\n",
              "      <td>104.424</td>\n",
              "    </tr>\n",
              "    <tr>\n",
              "      <th>161</th>\n",
              "      <td>06-2013</td>\n",
              "      <td>155.280548</td>\n",
              "      <td>154.208</td>\n",
              "    </tr>\n",
              "    <tr>\n",
              "      <th>83</th>\n",
              "      <td>12-2006</td>\n",
              "      <td>185.857834</td>\n",
              "      <td>184.141</td>\n",
              "    </tr>\n",
              "    <tr>\n",
              "      <th>221</th>\n",
              "      <td>06-2018</td>\n",
              "      <td>202.060913</td>\n",
              "      <td>202.535</td>\n",
              "    </tr>\n",
              "    <tr>\n",
              "      <th>236</th>\n",
              "      <td>09-2019</td>\n",
              "      <td>210.137558</td>\n",
              "      <td>211.062</td>\n",
              "    </tr>\n",
              "    <tr>\n",
              "      <th>226</th>\n",
              "      <td>11-2018</td>\n",
              "      <td>204.486481</td>\n",
              "      <td>205.458</td>\n",
              "    </tr>\n",
              "    <tr>\n",
              "      <th>66</th>\n",
              "      <td>07-2005</td>\n",
              "      <td>172.694214</td>\n",
              "      <td>172.859</td>\n",
              "    </tr>\n",
              "    <tr>\n",
              "      <th>143</th>\n",
              "      <td>12-2011</td>\n",
              "      <td>137.948349</td>\n",
              "      <td>136.674</td>\n",
              "    </tr>\n",
              "    <tr>\n",
              "      <th>31</th>\n",
              "      <td>08-2002</td>\n",
              "      <td>125.144951</td>\n",
              "      <td>123.830</td>\n",
              "    </tr>\n",
              "    <tr>\n",
              "      <th>68</th>\n",
              "      <td>09-2005</td>\n",
              "      <td>167.650162</td>\n",
              "      <td>176.437</td>\n",
              "    </tr>\n",
              "    <tr>\n",
              "      <th>76</th>\n",
              "      <td>05-2006</td>\n",
              "      <td>181.341934</td>\n",
              "      <td>184.157</td>\n",
              "    </tr>\n",
              "    <tr>\n",
              "      <th>54</th>\n",
              "      <td>07-2004</td>\n",
              "      <td>153.150696</td>\n",
              "      <td>151.336</td>\n",
              "    </tr>\n",
              "    <tr>\n",
              "      <th>128</th>\n",
              "      <td>09-2010</td>\n",
              "      <td>142.668671</td>\n",
              "      <td>143.015</td>\n",
              "    </tr>\n",
              "    <tr>\n",
              "      <th>25</th>\n",
              "      <td>02-2002</td>\n",
              "      <td>117.674408</td>\n",
              "      <td>117.845</td>\n",
              "    </tr>\n",
              "    <tr>\n",
              "      <th>78</th>\n",
              "      <td>07-2006</td>\n",
              "      <td>179.726013</td>\n",
              "      <td>183.068</td>\n",
              "    </tr>\n",
              "    <tr>\n",
              "      <th>91</th>\n",
              "      <td>08-2007</td>\n",
              "      <td>176.237747</td>\n",
              "      <td>178.120</td>\n",
              "    </tr>\n",
              "  </tbody>\n",
              "</table>\n",
              "</div>"
            ],
            "text/plain": [
              "          Id         HPI  Real_HPI\n",
              "133  02-2011  140.528214   140.358\n",
              "93   10-2007  175.568115   176.627\n",
              "67   08-2005  172.062714   174.442\n",
              "188  09-2015  172.248428   173.858\n",
              "5    06-2000  103.832153   104.424\n",
              "161  06-2013  155.280548   154.208\n",
              "83   12-2006  185.857834   184.141\n",
              "221  06-2018  202.060913   202.535\n",
              "236  09-2019  210.137558   211.062\n",
              "226  11-2018  204.486481   205.458\n",
              "66   07-2005  172.694214   172.859\n",
              "143  12-2011  137.948349   136.674\n",
              "31   08-2002  125.144951   123.830\n",
              "68   09-2005  167.650162   176.437\n",
              "76   05-2006  181.341934   184.157\n",
              "54   07-2004  153.150696   151.336\n",
              "128  09-2010  142.668671   143.015\n",
              "25   02-2002  117.674408   117.845\n",
              "78   07-2006  179.726013   183.068\n",
              "91   08-2007  176.237747   178.120"
            ]
          },
          "metadata": {
            "tags": []
          },
          "execution_count": 71
        }
      ]
    },
    {
      "cell_type": "markdown",
      "metadata": {
        "id": "y1K9BCsNUe0c"
      },
      "source": [
        "# **References:**\n",
        "\n",
        "\n",
        "\n",
        "* ***Data:*** https://fred.stlouisfed.org/\n",
        "\n",
        "* https://www.researchgate.net/publication/342302491_Housing_Market_Prediction_Problem_using_Different_Machine_Learning_Algorithms_A_Case_Study\n",
        "\n",
        "*   https://pdf.sciencedirectassets.com\n",
        " \n",
        "*   https://neptune.ai/blog/lightgbm-parameters-guide\n",
        "\n",
        "\n",
        "*    https://machinelearningmastery.com/avoid-overfitting-by-early-stopping-with-xgboost-in-python/\n",
        "\n",
        "\n",
        "*   https://www.kaggle.com/c/house-prices-advanced-regression-techniques/code\n",
        "\n",
        "*   https://www.analyticsvidhya.com/blog/2017/06/which-algorithm-takes-the-crown-light-gbm-vs-xgboost/\n",
        "\n"
      ]
    }
  ]
}